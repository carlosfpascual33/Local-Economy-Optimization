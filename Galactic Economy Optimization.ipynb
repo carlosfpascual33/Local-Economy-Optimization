{
 "cells": [
  {
   "cell_type": "markdown",
   "id": "40b0abdc",
   "metadata": {},
   "source": [
    "# GALACTIC ECONOMY"
   ]
  },
  {
   "cell_type": "markdown",
   "id": "30e340b8",
   "metadata": {},
   "source": [
    "\n",
    "\n",
    "The year is 2235. Earth's resources long ago became insufficient for the growth of the human population, and humanity was forced to look at other planets for survival of the species. At this point, following the pioneering company SpaceZ, humans have established settlements in a densely occupied area of the Milky Way with 6 planets nearby (less than a light year away). The company is in charge of the commerce and regulation of valuable resources between the planets, namely **Minerals**, **Crops** and **Fuel**. The planets need these resources for susteinability, and (starting from a initial stock) look to meet a demanded quantity for each of them. For this, they are free to exchange them with any of the other planets, both buying resources from them and selling resources to them. Moreover, to ensure competitivity among the planets, and to avoid planets to incur in excessive debt, it has been regulated that a planet can at most spend 50% more money on buying resources than the money it has earned from selling resources. The prices per kg for each resource in Galactic Standard Credits (GCSs) or simply Credits (Cs), $p^k$, are the following:\n",
    "\n",
    "\n",
    "| Resource | $p^k$ (Cs)|\n",
    "--------------|-----|\n",
    "Minerals (k=1) | 800\n",
    "Crops (k=2) | 50 \n",
    "Fuel (k=3) | 350\n",
    "\n",
    "The cost of transportation of resources for the company is of $c=\\,40\\,Cs/\\,light\\,year\\cdot kg$.\n",
    "\n",
    "\n",
    "**The goal of the company SpaceZ is to minimize the transport cost of the resources so that all demands are met.**\n",
    "\n",
    "In order to ensure that the problem has a solution, it has been established that for each resource *k*, the total initial stock *$S_k$*,  is at least equal to the total demand *$D_k$* for said resource. In other words, it has been established that there is a surplus of resources, so that $S_k=\\,\\epsilon D_k, \\, \\forall \\, k\\in\\{1,\\,2,\\,3\\}$, with $\\epsilon>=1$."
   ]
  },
  {
   "cell_type": "markdown",
   "id": "fa801d23",
   "metadata": {},
   "source": [
    "## a) Formulate mathematically the problem as a linear optimization model (based on the general formulation of an LP). Identify the model sets, parameters, variables, objective function and constraints."
   ]
  },
  {
   "cell_type": "markdown",
   "id": "3cfd5c29",
   "metadata": {},
   "source": [
    "The mathematical model of the problem is the following:"
   ]
  },
  {
   "cell_type": "markdown",
   "id": "979cbb3a",
   "metadata": {},
   "source": [
    "\\begin{align*}\n",
    "\\underset{x_{ij}^k}{\\min} & \\quad \\sum_{i=1}^{n}\\sum_{j=1}^{n}\\sum_{k=1}^{m}c_{ij}x_{ij}^k\\\\\n",
    "\\text{s.t.:}&\\\\\n",
    "  &\\sum_{j=1}^{n} x_{ji}^k-\\sum_{j=1}^{n} x_{ij}^k+s_i^k\\,\\geq d_i^k \\quad \\forall i\\in\\{1,\\,...,\\,n\\},\\,k\\in\\{1,\\,...,\\,m\\}\\\\\n",
    "  &\\sum_{j=1}^{n}\\sum_{k=1}^{m} p^k x_{ji}^k \\leq 1.5\\sum_{j=1}^{n}\\sum_{k=1}^{m} p^k x_{ij}^k\\quad \\forall i\\in\\{1,\\,...,\\,n\\}\\\\\n",
    "  &x_{ii}^k=0\\quad \\forall i\\in\\{1,\\,...,\\,n\\},\\,k\\in\\{1,\\,...,\\,m\\}\\\\\n",
    "  &x_{ij}^k \\geq 0 \\quad \\forall i,\\,j\\in\\{1,\\,...,\\,n\\},\\,k\\in\\{1,\\,...,\\,m\\}\\\\\n",
    "\\end{align*}\n"
   ]
  },
  {
   "cell_type": "markdown",
   "id": "800ab22f",
   "metadata": {},
   "source": [
    "Let's explain the different elements of the model.\n",
    "\n",
    "- The decision variables of the problem are $x_{ij}^k$, which are the amount (in kg) of resource *k* that is sent from planet *i* to planet *j*. These variables are defined as non negative real numbers, for it is impossible to send a negative amount of a resource. With regard to the indices, $i,j\\in\\{1,\\,2,\\,...,\\,n\\}$, with n being the number of planets (in our case, n=6), and $k\\in\\{1,\\,2,\\,m\\}$, with m being the number of different resources (in this case, m=3). For these values, we have $n\\cdot n\\cdot m=\\,6\\cdot 6\\cdot 3=$ **108 decision variables**.\n",
    "\n",
    "\n",
    "- The objective function is $\\sum_{i=1}^{n}\\sum_{j=1}^{n}\\sum_{k=1}^{m}c_{ij}x_{ij}^k$, where $c_{ij}$ is the cost of transportation per kg for the transport of a resource from planet *i* to planet *j*, which is obtained by the cost of transportation per kg and per distance, *c*, times the distance from planet i to planet j, *$d_{ij}$*. We aim to minimize this transportation cost.\n",
    "\n",
    "- The constraints $\\sum_{j=1}^{n} x_{ij}^k-\\sum_{j=1}^{n} x_{ij}^k+s_i^k\\,\\geq d_i^k \\quad \\forall i\\in\\{1,\\,...,\\,n\\},\\,k\\in\\{1,\\,...,\\,m\\}$ are what shall be called **\"material balance constraints\"** and establish the need that each planet has for each resource, given the total amount it wants to posses, $d_{i}^k$, and the amount it already has of if, its initial stock, $s_i^k$. The model has $n\\cdot m=\\,6\\cdot3=\\,18$ constraints of this type.\n",
    "\n",
    "- The constraints $\\sum_{j=1}^{n}\\sum_{k=1}^{m} p^k x_{ji}^k \\leq 1.5\\sum_{j=1}^{n}\\sum_{k=1}^{m} p^k x_{ij}^k\\quad \\forall i\\in\\{1,\\,...,\\,n\\}$ are what shall be called **\"ecomonic balance constraints\"** and establish that a planet can at most spend 50% more money on buying resources than the money it has earned from selling resources. $p^k$ is the price per kg for each resource *k*. The model has $n=\\,6$ constraints of this type.\n",
    "\n",
    "- The constraints $x_{ii}^k=0\\quad \\forall \\,i\\in\\{1,\\,...,\\,m\\} \\forall \\,k\\in\\{1,\\,...,\\,m\\}$ are what shall be called the **\"inner commerce constraints\"** and establish that no resources can be exchanged within the same planet. This makes sense as the problem is formulated, for the resources remain in the same planet, and the net exchange of resources from planet *i* to planet *i* is obviously zero. The model has $m=\\,3$ constraints of this type.\n",
    "\n",
    "- The model has a total of $18+6+3=$ **27 constraints**.\n",
    "\n"
   ]
  },
  {
   "cell_type": "markdown",
   "id": "d6d92e36",
   "metadata": {},
   "source": [
    "## b) Implement the model in Pyomo and solve it for a set of (parameter) values, either based on real-world or randomly generated data (make sure that the values you use are coherent with the model defined in a)). In both cases, include your model and the specific data you have used."
   ]
  },
  {
   "cell_type": "markdown",
   "id": "7d6d0bc3",
   "metadata": {},
   "source": [
    "First of all, it is required to obtain the data for the problem. For that, a random matrix of distances among the planets will be generated, as well as randomly generated demands and initial stocks for each resource for each planet."
   ]
  },
  {
   "cell_type": "code",
   "execution_count": 1,
   "id": "56e82590",
   "metadata": {},
   "outputs": [],
   "source": [
    "import numpy as np\n",
    "\n",
    "##GENERATION OF DATA##\n",
    "\n",
    "\n",
    "#Set a seed so the results can be replicated\n",
    "np.random.seed(241024)\n",
    "\n",
    "n=6 #number of planets\n",
    "m=3 #number of resources\n",
    "\n",
    "c= 40 #cost per kg per light year\n",
    "\n",
    "p=np.array([800, 50, 350]) #price per kg of resource\n",
    "\n",
    "#Distance matrix \n",
    "\n",
    "upper_tri = np.random.uniform(0, 1, size=(n, n)) #randomly generate an upper triangular matrix with values uniformly distributed\n",
    "                                                 #between 0 and 1\n",
    "\n",
    "dist= np.triu(upper_tri) + np.triu(upper_tri, 1).T #create a symmetric matrix by adding the upper triangular matrix and its\n",
    "                                                   #transpose\n",
    "\n",
    "np.fill_diagonal(dist,0) #fill the diagonal with zeros (the distance from a planet to itself is zero)\n",
    "\n",
    "\n",
    "#Cost matrix\n",
    "\n",
    "cost=c*dist\n",
    "\n",
    "#Demand matrix\n",
    "\n",
    "d_1=np.random.uniform(0, 500, size=n) #generate random demands of resource 1 (minerals) for each planet\n",
    "\n",
    "D1=sum(d_1) #total demand of resource 1 (minerals)\n",
    "\n",
    "d_2=np.random.uniform(0, 1200, size=n) #generate random demands of resource 2 (crops) for each planet\n",
    "\n",
    "D2=sum(d_2) #total demand of resource 2 (crops)\n",
    "\n",
    "d_3=np.random.uniform(0,350, size=n) #generate random demands for resource 3 (fuel)\n",
    "\n",
    "D3=sum(d_3) #total demand of resource 3 (fuel)\n",
    "\n",
    "dem=np.column_stack((d_1, d_2, d_3))\n",
    "\n",
    "#Stock matrix\n",
    "\n",
    "epsilon=1 #defines surplus of resources\n",
    "\n",
    "S1=epsilon*D1 #defines the total amount of resource 1 available\n",
    "\n",
    "s_1=np.random.dirichlet(np.ones(n))*S1 #generate random set of proportions so that the total stock is shared among all the \n",
    "                                       #planets\n",
    "\n",
    "S2=epsilon*D2 #defines the total amount of resource 2 available\n",
    "\n",
    "s_2=np.random.dirichlet(np.ones(n))*S2 #generate random set of proportions so that the total stock is shared among all the \n",
    "                                       #planets\n",
    "\n",
    "S3=epsilon*D3 #defines the total amount of resource 2 available\n",
    "\n",
    "s_3=np.random.dirichlet(np.ones(n))*S3 #generate random set of proportions so that the total stock is shared among all the \n",
    "                                       #planets\n",
    "\n",
    "\n",
    "stock=np.column_stack((s_1, s_2, s_3))\n"
   ]
  },
  {
   "cell_type": "markdown",
   "id": "02de4bd9",
   "metadata": {},
   "source": [
    "The following code shows the distances among the different planets, where $d(i,j)$ is the distance between planet *i* and planet *j* in light years. As the distances are symmetric, the distance between each two planets is only shown once."
   ]
  },
  {
   "cell_type": "code",
   "execution_count": 2,
   "id": "e8b3af68",
   "metadata": {},
   "outputs": [
    {
     "name": "stdout",
     "output_type": "stream",
     "text": [
      "Distances between planets (light years)\n",
      " \n",
      "dist( 1 , 2 )=  0.4384226953450193\n",
      "dist( 1 , 3 )=  0.3955053216948524\n",
      "dist( 1 , 4 )=  0.7699351166058933\n",
      "dist( 1 , 5 )=  0.9335093620002046\n",
      "dist( 1 , 6 )=  0.275306202481882\n",
      "dist( 2 , 3 )=  0.6497163780715765\n",
      "dist( 2 , 4 )=  0.9378220559114848\n",
      "dist( 2 , 5 )=  0.9706064218345486\n",
      "dist( 2 , 6 )=  0.35054850431422024\n",
      "dist( 3 , 4 )=  0.9521844277111974\n",
      "dist( 3 , 5 )=  0.15295958490892692\n",
      "dist( 3 , 6 )=  0.20897392647943946\n",
      "dist( 4 , 5 )=  0.9105355393170441\n",
      "dist( 4 , 6 )=  0.6511737270295068\n",
      "dist( 5 , 6 )=  0.025684483603624964\n"
     ]
    }
   ],
   "source": [
    "print('Distances between planets (light years)')\n",
    "print(' ')\n",
    "for i in range(0,n):\n",
    "    for j in range (i+1,n):\n",
    "        print('dist(',i+1, ',',j+1,')= ', dist[i,j])"
   ]
  },
  {
   "cell_type": "markdown",
   "id": "f7c8610e",
   "metadata": {},
   "source": [
    "Below, the stocks and demands of each of the planets for each of the resources are shown, as well as the need of each planet for each resource (their demand of it minus the stock they already have of it). $stock(i,k)$ is the initial stock of planet *i* for the resource *k*, $dem(i,k)$ is the demand of planet *i* for resource *k*, and $need(i,k)$ is the need of planet *i* for resource *k* (positive if the demand is greater than the stock, meaning the planet needs more, and negative if the demand is lower than the stock, meaning there is an excess of the resource in the planet)."
   ]
  },
  {
   "cell_type": "code",
   "execution_count": 3,
   "id": "fb01bde3",
   "metadata": {
    "scrolled": true
   },
   "outputs": [
    {
     "name": "stdout",
     "output_type": "stream",
     "text": [
      "Stocks, demands and needs of resources per planet (kg)\n",
      " \n",
      " \n",
      "stock( 1 , 1 )=  109.63419208492945 | dem( 1 , 1 )=  133.95587109857183 | need( 1 , 1 )=  24.32167901364238\n",
      "stock( 1 , 2 )=  1264.398467305732 | dem( 1 , 2 )=  655.7015702977704 | need( 1 , 2 )=  -608.6968970079616\n",
      "stock( 1 , 3 )=  165.0253439684896 | dem( 1 , 3 )=  330.45171925365895 | need( 1 , 3 )=  165.42637528516934\n",
      " \n",
      "stock( 2 , 1 )=  191.14557705663412 | dem( 2 , 1 )=  136.9345902759727 | need( 2 , 1 )=  -54.210986780661415\n",
      "stock( 2 , 2 )=  1064.681161629941 | dem( 2 , 2 )=  410.1717192709618 | need( 2 , 2 )=  -654.5094423589792\n",
      "stock( 2 , 3 )=  443.8654293753781 | dem( 2 , 3 )=  315.26159596878244 | need( 2 , 3 )=  -128.60383340659564\n",
      " \n",
      "stock( 3 , 1 )=  12.40486981164669 | dem( 3 , 1 )=  339.8178724879172 | need( 3 , 1 )=  327.41300267627054\n",
      "stock( 3 , 2 )=  19.00250409077287 | dem( 3 , 2 )=  288.4369872075736 | need( 3 , 2 )=  269.4344831168008\n",
      "stock( 3 , 3 )=  54.81160006684485 | dem( 3 , 3 )=  73.67179480382553 | need( 3 , 3 )=  18.86019473698068\n",
      " \n",
      "stock( 4 , 1 )=  170.81730731095195 | dem( 4 , 1 )=  331.9031835840638 | need( 4 , 1 )=  161.08587627311186\n",
      "stock( 4 , 2 )=  1.2511531422313409 | dem( 4 , 2 )=  637.8973501959351 | need( 4 , 2 )=  636.6461970537038\n",
      "stock( 4 , 3 )=  396.4998696627936 | dem( 4 , 3 )=  182.18219774225466 | need( 4 , 3 )=  -214.31767192053897\n",
      " \n",
      "stock( 5 , 1 )=  171.95108713173082 | dem( 5 , 1 )=  131.769224505425 | need( 5 , 1 )=  -40.181862626305815\n",
      "stock( 5 , 2 )=  585.1800862600008 | dem( 5 , 2 )=  1055.3263545859124 | need( 5 , 2 )=  470.1462683259116\n",
      "stock( 5 , 3 )=  110.52622844060122 | dem( 5 , 3 )=  180.25845798425712 | need( 5 , 3 )=  69.7322295436559\n",
      " \n",
      "stock( 6 , 1 )=  785.4125141588623 | dem( 6 , 1 )=  366.98480560280467 | need( 6 , 1 )=  -418.42770855605767\n",
      "stock( 6 , 2 )=  511.7599966997192 | dem( 6 , 2 )=  398.7393875702438 | need( 6 , 2 )=  -113.02060912947536\n",
      "stock( 6 , 3 )=  23.00832699945227 | dem( 6 , 3 )=  111.91103276078088 | need( 6 , 3 )=  88.90270576132862\n",
      " \n"
     ]
    }
   ],
   "source": [
    "print('Stocks, demands and needs of resources per planet (kg)')\n",
    "print(' ')\n",
    "print(' ')\n",
    "\n",
    "for i in range(0,n):\n",
    "    for k in range (0,m):\n",
    "        print('stock(',i+1, ',',k+1,')= ', stock[i,k], '| dem(',i+1, ',',k+1,')= ', dem[i,k], '| need(',i+1, ',',k+1,')= ', dem[i,k]-stock[i,k])\n",
    "    print(' ')"
   ]
  },
  {
   "cell_type": "markdown",
   "id": "c722ce91",
   "metadata": {},
   "source": [
    "Once the data is obtained, the model can be implemented on pyomo."
   ]
  },
  {
   "cell_type": "code",
   "execution_count": 4,
   "id": "3b9cc071",
   "metadata": {},
   "outputs": [],
   "source": [
    "##IMPLEMENTATION OF MODEL\n",
    "\n",
    "#Import the pyomo package and the solver\n",
    "import pyomo.environ as pyo\n",
    "from pyomo.environ import *\n",
    "opt = pyo.SolverFactory('glpk')\n",
    "\n",
    "#Create the model\n",
    "model = pyo.ConcreteModel(name=\"ECON\") \n",
    "\n",
    "#Define the sets\n",
    "model.I = pyo.RangeSet(1,n)\n",
    "model.J = pyo.RangeSet(1,n)\n",
    "model.K =pyo.RangeSet(1,m)\n",
    "\n",
    "#Define the variables\n",
    "model.x = pyo.Var(model.I, model.J, model.K, domain=pyo.NonNegativeReals, initialize=0) \n",
    "\n",
    "#Define the objective function\n",
    "def Obj_rule(model):\n",
    "    return sum(cost[i-1,j-1]*model.x[i,j,k] for i in model.I for j in model.J for k in model.K)\n",
    "model.Obj = pyo.Objective(rule=Obj_rule, sense=pyo.minimize)\n",
    "\n",
    "#Define the constraints\n",
    "\n",
    "\n",
    "def material_constraint_rule(model, i, k): #material constraints\n",
    "    return sum(model.x[j,i,k]-model.x[i,j,k] for j in model.J if (i!=j)) >= dem[i-1,k-1]-stock[i-1,k-1] #define the condition\n",
    "model.material_Constraint = pyo.Constraint(model.I, model.K, rule=material_constraint_rule) #add the constraints to the model\n",
    "\n",
    "def econ_constraint_rule(model, i): #economic constraints\n",
    "    return sum(p[k-1]*model.x[j,i,k]-1.5*p[k-1]*model.x[i,j,k] for j in model.J if (i!=j) for k in model.K)<=0\n",
    "model.econ_Constraint = pyo.Constraint(model.I, rule=econ_constraint_rule)\n",
    "    \n",
    "def no_inner_constraint_rule(model,i,k): #inner constraints \n",
    "    return model.x[i,i,k] == 0\n",
    "model.no_inner_Constraint = pyo.Constraint(model.I, model.K, rule=no_inner_constraint_rule)\n",
    "\n",
    "    \n",
    "\n",
    "\n"
   ]
  },
  {
   "cell_type": "code",
   "execution_count": 5,
   "id": "38f7858f",
   "metadata": {},
   "outputs": [
    {
     "name": "stdout",
     "output_type": "stream",
     "text": [
      "GLPSOL: GLPK LP/MIP Solver, v4.65\n",
      "Parameter(s) specified in the command line:\n",
      " --write C:\\Users\\USUARIO\\AppData\\Local\\Temp\\tmpno345017.glpk.raw --wglp C:\\Users\\USUARIO\\AppData\\Local\\Temp\\tmpudffw9ei.glpk.glp\n",
      " --cpxlp C:\\Users\\USUARIO\\AppData\\Local\\Temp\\tmp1mgsaqdr.pyomo.lp\n",
      "Reading problem data from 'C:\\Users\\USUARIO\\AppData\\Local\\Temp\\tmp1mgsaqdr.pyomo.lp'...\n",
      "42 rows, 108 columns, 378 non-zeros\n",
      "711 lines were read\n",
      "Writing problem data to 'C:\\Users\\USUARIO\\AppData\\Local\\Temp\\tmpudffw9ei.glpk.glp'...\n",
      "645 lines were written\n",
      "GLPK Simplex Optimizer, v4.65\n",
      "42 rows, 108 columns, 378 non-zeros\n",
      "Preprocessing...\n",
      "24 rows, 90 columns, 360 non-zeros\n",
      "Scaling...\n",
      " A: min|aij| =  1.000e+00  max|aij| =  1.200e+03  ratio =  1.200e+03\n",
      "GM: min|aij| =  8.165e-01  max|aij| =  1.225e+00  ratio =  1.500e+00\n",
      "EQ: min|aij| =  6.667e-01  max|aij| =  1.000e+00  ratio =  1.500e+00\n",
      "Constructing initial basis...\n",
      "Size of triangular part is 24\n",
      "      0: obj =   0.000000000e+00 inf =   2.995e+03 (10)\n",
      "     22: obj =   1.355727737e+05 inf =   0.000e+00 (0)\n",
      "*    39: obj =   6.209421359e+04 inf =   0.000e+00 (0)\n",
      "OPTIMAL LP SOLUTION FOUND\n",
      "Time used:   0.0 secs\n",
      "Memory used: 0.1 Mb (146383 bytes)\n",
      "Writing basic solution to 'C:\\Users\\USUARIO\\AppData\\Local\\Temp\\tmpno345017.glpk.raw'...\n",
      "159 lines were written\n"
     ]
    }
   ],
   "source": [
    "#Get the solution\n",
    "\n",
    "results = opt.solve(model,tee=True)"
   ]
  },
  {
   "cell_type": "code",
   "execution_count": 6,
   "id": "ad2615b4",
   "metadata": {},
   "outputs": [
    {
     "name": "stdout",
     "output_type": "stream",
     "text": [
      "The total cost of transportation of resources is  62094.21358522732 Cs\n"
     ]
    }
   ],
   "source": [
    "print('The total cost of transportation of resources is ', model.Obj(), 'Cs')"
   ]
  },
  {
   "cell_type": "markdown",
   "id": "bdd2719d",
   "metadata": {},
   "source": [
    "The following code shows the exchanges of resources that take place among the planets, in kg. $x(i,j,k)$ is the amount of resource *k* that is sent from planet *i* to planet *j*."
   ]
  },
  {
   "cell_type": "code",
   "execution_count": 7,
   "id": "a17e5eec",
   "metadata": {
    "scrolled": true
   },
   "outputs": [
    {
     "name": "stdout",
     "output_type": "stream",
     "text": [
      "Exchanged quantities of resources (kg)\n",
      " \n",
      " \n",
      "x( 1 ,  4 , 1)=  79.2607682128152\n",
      "x( 1 ,  4 , 2)=  608.696897007962\n",
      " \n",
      "x( 2 ,  1 , 3)=  128.603833406595\n",
      "x( 2 ,  4 , 1)=  54.2109867806621\n",
      "x( 2 ,  4 , 2)=  27.9493000457421\n",
      "x( 2 ,  6 , 2)=  626.560142313236\n",
      " \n",
      "x( 3 ,  5 , 1)=  705.007986137\n",
      " \n",
      "x( 4 ,  1 , 1)=  103.582447226458\n",
      "x( 4 ,  1 , 3)=  36.8225418785739\n",
      "x( 4 ,  6 , 1)=  16.878135555773\n",
      "x( 4 ,  6 , 3)=  177.495130041965\n",
      " \n",
      "x( 5 ,  3 , 1)=  1032.42098881327\n",
      "x( 5 ,  3 , 2)=  269.434483116801\n",
      "x( 5 ,  3 , 3)=  18.8601947369807\n",
      " \n",
      "x( 6 ,  4 , 1)=  148.074704061866\n",
      "x( 6 ,  5 , 1)=  287.231140049965\n",
      "x( 6 ,  5 , 2)=  739.580751442712\n",
      "x( 6 ,  5 , 3)=  88.5924242806372\n"
     ]
    }
   ],
   "source": [
    "print('Exchanged quantities of resources (kg)')\n",
    "print(' ')\n",
    "x_sol_1=np.zeros((n,n))\n",
    "x_sol_2=np.zeros((n,n))\n",
    "x_sol_3=np.zeros((n,n))\n",
    "for i in range(0,n):\n",
    "    print(' ')\n",
    "    for j in range(0,n):\n",
    "        x_sol_1[i,j]=pyo.value(model.x[i+1,j+1,1])\n",
    "        x_sol_2[i,j]=pyo.value(model.x[i+1,j+1,2])\n",
    "        x_sol_3[i,j]=pyo.value(model.x[i+1, j+1,3])\n",
    "        if x_sol_1[i,j]!=0:\n",
    "            print('x(',i+1,', ',j+1,', 1)= ', x_sol_1[i,j])\n",
    "        if x_sol_2[i,j]!=0:\n",
    "            print('x(',i+1,', ',j+1,', 2)= ', x_sol_2[i,j])\n",
    "        if x_sol_3[i,j]!=0:\n",
    "            print('x(',i+1,', ',j+1,', 3)= ', x_sol_3[i,j])"
   ]
  },
  {
   "cell_type": "markdown",
   "id": "54c305ef",
   "metadata": {},
   "source": [
    "## c) Compute the sensitivities associated with each constraint, and interpret the values of those you may consider more important."
   ]
  },
  {
   "cell_type": "markdown",
   "id": "e6213600",
   "metadata": {},
   "source": [
    "It is found that the solutions from the dual problem are the sensitivitivies associated to each of the constraints. So, to obtain the sensivities of the problem, the dual problem will be implemented on pyomo, and the solutions will be analyzed."
   ]
  },
  {
   "cell_type": "code",
   "execution_count": 8,
   "id": "3ca2a5e1",
   "metadata": {},
   "outputs": [
    {
     "name": "stdout",
     "output_type": "stream",
     "text": [
      "GLPSOL: GLPK LP/MIP Solver, v4.65\n",
      "Parameter(s) specified in the command line:\n",
      " --write C:\\Users\\USUARIO\\AppData\\Local\\Temp\\tmpiu8jpci3.glpk.raw --wglp C:\\Users\\USUARIO\\AppData\\Local\\Temp\\tmpayx3rtef.glpk.glp\n",
      " --cpxlp C:\\Users\\USUARIO\\AppData\\Local\\Temp\\tmp4r34si3o.pyomo.lp\n",
      "Reading problem data from 'C:\\Users\\USUARIO\\AppData\\Local\\Temp\\tmp4r34si3o.pyomo.lp'...\n",
      "42 rows, 108 columns, 378 non-zeros\n",
      "711 lines were read\n",
      "Writing problem data to 'C:\\Users\\USUARIO\\AppData\\Local\\Temp\\tmpayx3rtef.glpk.glp'...\n",
      "645 lines were written\n",
      "GLPK Simplex Optimizer, v4.65\n",
      "42 rows, 108 columns, 378 non-zeros\n",
      "Preprocessing...\n",
      "24 rows, 90 columns, 360 non-zeros\n",
      "Scaling...\n",
      " A: min|aij| =  1.000e+00  max|aij| =  1.200e+03  ratio =  1.200e+03\n",
      "GM: min|aij| =  8.165e-01  max|aij| =  1.225e+00  ratio =  1.500e+00\n",
      "EQ: min|aij| =  6.667e-01  max|aij| =  1.000e+00  ratio =  1.500e+00\n",
      "Constructing initial basis...\n",
      "Size of triangular part is 24\n",
      "      0: obj =   0.000000000e+00 inf =   2.995e+03 (10)\n",
      "     22: obj =   1.355727737e+05 inf =   0.000e+00 (0)\n",
      "*    39: obj =   6.209421359e+04 inf =   0.000e+00 (0)\n",
      "OPTIMAL LP SOLUTION FOUND\n",
      "Time used:   0.0 secs\n",
      "Memory used: 0.1 Mb (146383 bytes)\n",
      "Writing basic solution to 'C:\\Users\\USUARIO\\AppData\\Local\\Temp\\tmpiu8jpci3.glpk.raw'...\n",
      "159 lines were written\n",
      "Suffix: dual\n",
      "dual : Direction=IMPORT, Datatype=FLOAT\n",
      "    Key                      : Value\n",
      "          econ_Constraint[1] : -0.0237522779152774\n",
      "          econ_Constraint[2] :                 0.0\n",
      "          econ_Constraint[3] : -0.0305919169817858\n",
      "          econ_Constraint[4] :  -0.130234745405902\n",
      "          econ_Constraint[5] :                 0.0\n",
      "          econ_Constraint[6] :                 0.0\n",
      "    material_Constraint[1,1] :    35.2182110705565\n",
      "    material_Constraint[1,2] :    8.49689841586947\n",
      "    material_Constraint[1,3] :    25.8502050841478\n",
      "    material_Constraint[2,1] :                 0.0\n",
      "    material_Constraint[2,2] :                 0.0\n",
      "    material_Constraint[2,3] :                 0.0\n",
      "    material_Constraint[3,1] :      43.08522948121\n",
      "    material_Constraint[3,2] :    22.6972987621602\n",
      "    material_Constraint[3,3] :    30.6393859148724\n",
      "    material_Constraint[4,1] :    141.700678561181\n",
      "    material_Constraint[4,2] :    44.0246195067545\n",
      "    material_Constraint[4,3] :    55.1127444876634\n",
      "    material_Constraint[5,1] :    12.4933124994243\n",
      "    material_Constraint[5,2] :    15.0493195167138\n",
      "    material_Constraint[5,3] :    13.8138315748903\n",
      "    material_Constraint[6,1] :    11.4659331552792\n",
      "    material_Constraint[6,2] :    14.0219401725688\n",
      "    material_Constraint[6,3] :    12.7864522307453\n",
      "    no_inner_Constraint[1,1] :                 0.0\n",
      "    no_inner_Constraint[1,2] :                 0.0\n",
      "    no_inner_Constraint[1,3] :                 0.0\n",
      "    no_inner_Constraint[2,1] :                 0.0\n",
      "    no_inner_Constraint[2,2] :                 0.0\n",
      "    no_inner_Constraint[2,3] :                 0.0\n",
      "    no_inner_Constraint[3,1] :                 0.0\n",
      "    no_inner_Constraint[3,2] :                 0.0\n",
      "    no_inner_Constraint[3,3] :                 0.0\n",
      "    no_inner_Constraint[4,1] :                 0.0\n",
      "    no_inner_Constraint[4,2] :                 0.0\n",
      "    no_inner_Constraint[4,3] :                 0.0\n",
      "    no_inner_Constraint[5,1] :                 0.0\n",
      "    no_inner_Constraint[5,2] :                 0.0\n",
      "    no_inner_Constraint[5,3] :                 0.0\n",
      "    no_inner_Constraint[6,1] :                 0.0\n",
      "    no_inner_Constraint[6,2] :                 0.0\n",
      "    no_inner_Constraint[6,3] :                 0.0\n"
     ]
    }
   ],
   "source": [
    "model.dual = Suffix(direction=Suffix.IMPORT)  #import the dual values to our model\n",
    "results = opt.solve(model, tee=True)\n",
    "\n",
    "#Print the dual value associated to each constraint\n",
    "for suffix_name in model.component_objects(Suffix, active=True):\n",
    "    print(f\"Suffix: {suffix_name.name}\")\n",
    "    suffix_name.pprint()\n"
   ]
  },
  {
   "cell_type": "markdown",
   "id": "81520519",
   "metadata": {},
   "source": [
    "To proceed with the interpretation of the sensitivities, it is necessary to first correctly identify the constraints.\n",
    "\n",
    "#### **\"Ecomonic balance constraints\"**\n",
    "For the **\"ecomonic balance constraints\"** (named in the code above by $econ\\_Constraint[i]$), adding a quantity $\\hat{b_i}$ to the right hand side (that means, changing the intercept of the hyperplane defined by the constraint) means that we allow the planet associated with each constraint to have an extra debt of $\\hat{b}$, meaning it can spend at most $1.5$ times the money it earns plus $\\hat{b_i}$ (note that $\\hat{b_i}$ may be positive of negative). This way, it is found that a change in the flexibility of the debt for each planet (increasing it by a given fixed quantity) has the following effect in the total transportation cost:\n",
    "\n",
    "- If the debt of planets 2, 5 or 6 is changed, the total transportation cost remains constant. This suggests that these planets have a \"healthy economy\", and do not require to take its debt to the maximum allowed to reach its desired amount of resources.\n",
    "\n",
    "- If the debt of planets 1, 3, or 4 is changed, the total transportation cost is reduced if the debt is relaxed (that is, if $\\hat{b_i}>0$), and is increased if the debt is made more restrictive ($\\hat{b_i}<0$). Specifically, the transportation cost is reduced by $0.0237522779152774$ Cs per each extra Cs planet 1 is allowed to spend (consider the case $\\hat{b_i}=1$), by $0.0305919169817858$ Cs per each extra Cs planet 3 is allowed to spend, and by $0.130234745405902$ Cs per each extra Cs planet 4 is allowed to spend. Analogously, the transportation cost will be increased by the same amounts per each less Cs that the given planet is allowed to spen (consider the case $\\hat{b_i}=-1$). The conclusion that may be drawn from this is that planet 6 is the one with the weakest economy (maybe because it is further away from the rest of the planets or has a natural scarcity of resources, may be a vanguard base or a recent far settlement, for example), and it should be prioritized to relax its debt for the economy to work better.\n",
    "\n",
    "#### **\"Material balance constraints\"**\n",
    "\n",
    "For the **\"material balance constraints\"** (named in the code above by $material\\_Constraint[i,k]$), adding a quantity $\\hat{b_i^k}$ to the right hand side means that the need of planet *i* for resource *k* is changed by an amount of $\\hat{b_i^k}$ kg. It is possible to associate a positive $\\hat{b_i^k}$ as an increase of the demand of resource *k* in planet *i*, and a negative value to an increase of the correspondent initial stock. The change in the initial distribution of the resources and its demands has the following effect on the transportation cost:\n",
    "\n",
    "- For planet 2, the change in its demands and initial stocks doesn't change the transportation cost. This means that the material constraints associated to planet 2 don't have an effect in the determination of the optimal solution, and so that there are other more restrictive constraints upon which the optimal solution lies, and thus their change does affect that optimal solution. This may be because planet 2 has a big surplus for each of the resources and so its constraints are not as restrictive as others. Note that no resources of any kind are sent to planet 2, as can be seen in the solutions.\n",
    "\n",
    "- For the rest of the planets, we see that an increase in the need for each of the resources (which can be interpreted as an increase in its demand for that given resource) provokes an increase of the transportation cost, as if more kg need to be supplied to a planet because its need for a given resource is increased, the transportation cost is therefore increased (remember that it directly depends on the quantity of resources exchanged). The interpretation is the same as for the economic constraints, for each kg the need associated to each constraint increases, the total transportation cost increases by the correspondent dual value. As an interesting value, the highest change in the total transportation cost is found when the need for planet 4 of resource 1 (minerals) is increased. It can be seen in the solutions to the model that a lot of exchanges involve planet 4 and resource 1, so it is a huge interconnection node of the system.\n",
    "\n",
    "#### **\"Inner commerce constraints\"**\n",
    "\n",
    "These constraints are just to eliminate variables from the model, and so their modification doesn't alter the optimal solution. In fact, they do not contribute to the objective function, as the transportation cost associated to each variable depends on the distance between the corresponding planets involved times a constant price per distance, and the distance from a planet to itself is zero by definition."
   ]
  },
  {
   "cell_type": "markdown",
   "id": "4a2dc735",
   "metadata": {},
   "source": [
    "## d) Derive the dual problem associated with a) and solve it in Pyomo. Does the Strong Duality hold?"
   ]
  },
  {
   "cell_type": "markdown",
   "id": "01b9d6ea",
   "metadata": {},
   "source": [
    "Let's consider an optimization problem with the following formulation:\n",
    "\n",
    "\\begin{align*}\n",
    "\\underset{x}{\\min} & \\quad z_P=\\,c^Tx\\\\\n",
    "\\text{s.t.:}&\\\\\n",
    "  &Ax=\\,b\\\\\n",
    "  &x \\geq 0\\\\\n",
    "\\end{align*}\n",
    "\n",
    "In this case, the corresponding dual problem is given by:\n",
    "\n",
    "\\begin{align*}\n",
    "\\underset{y}{\\max} & \\quad z_D=\\,b^Ty\\\\\n",
    "\\text{s.t.:}&\\\\\n",
    "  &A^Ty\\leq\\,c\\\\\n",
    "  &y\\in \\mathbb{R}\\\\\n",
    "\\end{align*}\n",
    "\n",
    "In order to obtain the dual problem for this case, it is first necessary to rewrite the constraints so that it fits the formulation seen above, to be able to find the correspondent dual problem.\n",
    "\n",
    "The problem properly rewritten follows the following formulation:\n",
    "\n",
    "\\begin{align*}\n",
    "\\underset{x_{ij}^k}{\\min} & \\quad \\sum_{i=1}^{n}\\sum_{j=1}^{n}\\sum_{k=1}^{m}c_{ij}x_{ij}^k\\\\\n",
    "\\text{s.t.:}&\\\\\n",
    "  &\\sum_{j=1}^{n} x_{ji}^k-\\sum_{j=1}^{n} x_{ij}^k - y_i^k\\,= d_i^k - s_i^k \\quad \\forall i\\in\\{1,\\,...,\\,n\\},\\,k\\in\\{1,\\,...,\\,m\\}\\\\\n",
    "  &\\sum_{j=1}^{n}\\sum_{k=1}^{m} p^k x_{ji}^k -  1.5\\sum_{j=1}^{n}\\sum_{k=1}^{m} p^k x_{ij}^k + z_i= 0\\quad \\forall i\\in\\{1,\\,...,\\,n\\}\\\\\n",
    "  &x_{ii}^k=0\\quad \\forall i\\in\\{1,\\,...,\\,n\\},\\,k\\in\\{1,\\,...,\\,m\\}\\\\\n",
    "  &x_{ij}^k \\geq 0 \\quad \\forall i,\\,j\\in\\{1,\\,...,\\,n\\},\\,k\\in\\{1,\\,...,\\,m\\}\\\\\n",
    "  &y_i^k \\geq 0 \\quad \\forall i\\in\\{1,\\,...,\\,n\\},\\,k\\in\\{1,\\,...,\\,m\\}\\\\\n",
    "  &z_i\\geq 0 \\quad \\forall i\\in\\{1,\\,...,\\,n\\}\\\\\n",
    "\\end{align*}\n",
    "\n",
    "Two different types of dummy variables have been added to the model: a variable $y_i^k$ per each \"material balance constraint\" ($n\\cdot m=\\,6\\cdot 3=$ 18 extra variables), and a variable $z_i$ per each \"economic balance constraint\" ($n=$ 6 extra variables). Note that, when it was needed to turn a \"greater than\" inequality into an equality, the dummy variable was substracted from the constraint (material case), and when it was needed to turn a \"less than\" inequality into an equality, the dummy variable was added to the constraint (economic case).\n",
    "\n",
    "Now that the problem is properly formulated, the formulation of the dual problem is immediate:\n",
    "\n",
    "\\begin{align*}\n",
    "\\underset{y}{\\max} & \\quad z_D=\\,b^Ty\\\\\n",
    "\\text{s.t.:}&\\\\\n",
    "  &A^Ty\\leq\\,c\\\\\n",
    "  &y\\in \\mathbb{R}\\\\\n",
    "\\end{align*}\n",
    "\n",
    "The issue now is to find the matrix coefficient of the adjusted original problem, $A$, as well as the coefficient vector of the objective function, $c$, and the vector of the independent terms of the constraints, $b$. \n"
   ]
  },
  {
   "cell_type": "markdown",
   "id": "8e1368dd",
   "metadata": {},
   "source": [
    "To obtain the matrix of the model, a code was created to generate the correspondent matrix for each of the constraints, and then the matrices were combined together by rows. \n",
    "The order of the variables in the model is as it follows: first, with a sending planet *i* and a receiving planet *j*, the material is iterated, and then the receiving planet is changed and all the materials are iterated again. Once all the receiving planets are done, the sending planet *i* changes and the process is repeated all over again:\n",
    "\n",
    "$ x_{ij}^k=x[i,j,k]: x[1,1,1]\\rightarrow x[1,1,2]\\rightarrow x[1,1,3]\\rightarrow x[1,2,1]\\rightarrow x[1,2,2]\\rightarrow x[1,2,3]\\rightarrow x[1,3,1]\\rightarrow ...\\rightarrow x[1,5,3]\\rightarrow x[1,6,1]\\rightarrow x[1,6,2]\\rightarrow x[1,6,3]\\rightarrow x[2,1,1]\\rightarrow ...$\n",
    "\n",
    "This is the way that the variables are ordered in the vector *x* of the model. After the original variables, the variables $y_i^k$ are added on the vector, following the same order (first advancing in the first order and then in the second): \n",
    "\n",
    "$y_i^k=y[i,k]: y[1,1]\\rightarrow y[1,2]\\rightarrow y[1,3]\\rightarrow y[2,1]\\rightarrow ...$\n",
    "\n",
    "Finally, the last variables of the variable vector *x* are the variables $z_i$, ordered in the usual way.\n",
    "\n",
    "This way, the variable vector *x* is $x=[x_{ij}^k,\\,y_i^k,\\,z_i]$\n",
    "\n",
    "It is very important that these concepts are clear in order to be able to draw the matrix of the model from the coefficients associated to each of the variables.\n",
    "\n",
    "To correctly define the cost vector *c*, note that the cost depends only on the distance between planets, that is, on *i* and *j* only, and not on the type of material (index *k*). This way, $c_{ij}^k=c_{ij} \\quad \\forall k\\in{1,\\,...,\\,m}$. This way, in the cost vector *c* (which must be of the same length as the vector *x*), each cost is repeated *m* times before the value changes, when it corresponds to the variables $x_{ij}^k$, and is 0 for the positions of the dummy variables (per definition, they don't affect the objective function).\n",
    "\n",
    "For the independent terms vector, *b*, it can easily be extracted from the constraints. Its values are the \"need vector\" (the difference between the demand and the stock for a given constraint) for the \"material balance constraints\", and 0 for the rest of the constraints. The vector's length is the number of constraints of the problem."
   ]
  },
  {
   "cell_type": "code",
   "execution_count": 9,
   "id": "b64560e1",
   "metadata": {},
   "outputs": [],
   "source": [
    "#Generate matrix for material constraints\n",
    "\n",
    "n_var_x=n*n*m #number of variables (with dummies)\n",
    "\n",
    "n_var_p=n*m #number of variables per planet\n",
    "\n",
    "\n",
    "#Generate a vector that keeps track of the sending planet involved in the variable\n",
    "contador=np.zeros(n_var_x)\n",
    "\n",
    "for i in range(n):\n",
    "    for j in range(i*n_var_p, (i+1)*n_var_p):\n",
    "        contador[j]=i   \n",
    "    \n",
    "contador=contador.astype(int)\n",
    "\n",
    "\n",
    "#Gemerate a vector that keeps track of the material involved in the variable\n",
    "material_i=np.array(range(m))\n",
    "\n",
    "material=np.tile(material_i, n*n).astype(int)\n",
    "\n",
    "\n",
    "#Generate a vector that keeps track of the receiving planet involved in the variable\n",
    "end=np.repeat(np.arange(n),m)       \n",
    "\n",
    "\n"
   ]
  },
  {
   "cell_type": "code",
   "execution_count": 10,
   "id": "3f0dfd21",
   "metadata": {},
   "outputs": [
    {
     "name": "stdout",
     "output_type": "stream",
     "text": [
      "[[0. 0. 0. ... 0. 0. 0.]\n",
      " [0. 0. 0. ... 0. 0. 0.]\n",
      " [0. 0. 0. ... 0. 0. 0.]\n",
      " ...\n",
      " [0. 0. 0. ... 0. 0. 0.]\n",
      " [0. 0. 0. ... 0. 0. 0.]\n",
      " [0. 0. 0. ... 0. 0. 0.]]\n"
     ]
    }
   ],
   "source": [
    "#Generate matrix for the material constraints\n",
    "\n",
    "for i in range(n):\n",
    "    mat=np.zeros((m, n_var_x))\n",
    "    for k in range(m):\n",
    "        for planet in range(n):\n",
    "            for j in range(planet*m*n,(planet+1)*m*n):\n",
    "                ind=j-planet*m*n\n",
    "                if material[j]==k:\n",
    "                    if end[ind]!=planet:\n",
    "                        if i==contador[j]:\n",
    "                            mat[k,j]=-1\n",
    "                        elif i!=contador[j] and end[ind]==i:\n",
    "                            mat[k,j]=1\n",
    "    if i==0:\n",
    "        A1=mat\n",
    "    else:\n",
    "        A1=np.vstack((A1,mat))    \n",
    "\n",
    "\n",
    "A1=np.hstack((A1,np.diag([-1]*n*m)))\n",
    "\n",
    "A1=np.hstack((A1,np.zeros((n*m,n))))\n",
    "\n",
    "print(A1)"
   ]
  },
  {
   "cell_type": "code",
   "execution_count": 11,
   "id": "c6fbbfb5",
   "metadata": {},
   "outputs": [],
   "source": [
    "#Generate matrix for the economic constraints\n",
    "\n",
    "ec=np.zeros((n,n_var_x))\n",
    "for i in range(n):    \n",
    "    for j in range(n_var_x):\n",
    "        for planet in range(n):\n",
    "                for j in range(planet*m*n,(planet+1)*m*n):\n",
    "                    ind=j-planet*m*n\n",
    "                    ident=int(material[j])\n",
    "                    if end[ind]!=planet:\n",
    "                        if i==contador[j]:\n",
    "                            ec[i,j]=-1.5*p[ident]\n",
    "                        elif i!=contador[j] and end[ind]==i:\n",
    "                            ec[i,j]=p[ident]\n",
    "\n",
    "\n",
    "\n",
    "A2=np.hstack((ec,np.zeros((n,n*m))))\n",
    "\n",
    "A2=np.hstack((A2,np.diag([1]*n)))\n",
    "\n",
    "\n"
   ]
  },
  {
   "cell_type": "code",
   "execution_count": 12,
   "id": "e7359da7",
   "metadata": {},
   "outputs": [],
   "source": [
    "#Generate matrix for inner constraints\n",
    "\n",
    "\n",
    "for i in range(n):\n",
    "    inner=np.zeros((m, n_var_x))\n",
    "    for k in range(m):\n",
    "        for planet in range(n):\n",
    "            for j in range(planet*m*n,(planet+1)*m*n):\n",
    "                ind=j-planet*m*n\n",
    "                if material[j]==k:\n",
    "                    if end[ind]==planet==i:\n",
    "                        inner[k,j]=1\n",
    "    if i==0:\n",
    "        A3=inner\n",
    "    else:\n",
    "        A3=np.vstack((A3,inner))\n",
    "\n",
    "A3=np.hstack((A3,np.zeros((m*n,m*n+n))))\n",
    "\n"
   ]
  },
  {
   "cell_type": "code",
   "execution_count": 13,
   "id": "9b98867f",
   "metadata": {},
   "outputs": [],
   "source": [
    "#Get the model matrix by joining the matrix of each constraint by rows\n",
    "\n",
    "A=np.vstack((A1,A2,A3))\n",
    "\n",
    "#Transpose the model matrix to use is as the model matrix of the dual problem\n",
    "A_t=A.T\n",
    "\n",
    "\n"
   ]
  },
  {
   "cell_type": "code",
   "execution_count": 14,
   "id": "f485ab91",
   "metadata": {},
   "outputs": [],
   "source": [
    "#Get the cost vector and the independent terms vector\n",
    "\n",
    "#Cost vector\n",
    "cost_vector=cost.reshape(-1)\n",
    "\n",
    "new_cost_vector=np.repeat(cost_vector,m)\n",
    "\n",
    "cost_vector_final=np.concatenate((new_cost_vector, np.zeros(A_t.shape[0]-n*m)))\n",
    "\n",
    "#Independent terms vector\n",
    "need=np.zeros((n,m))\n",
    "for i in range(0,n):\n",
    "    for k in range (0,m):\n",
    "        need[i,k]=dem[i,k]-stock[i,k]\n",
    "need_vec=need.reshape(-1)\n",
    "\n",
    "indep=np.concatenate((need_vec,np.zeros(A_t.shape[1]-len(need_vec))))\n",
    "\n",
    "\n",
    "\n",
    "        "
   ]
  },
  {
   "cell_type": "markdown",
   "id": "5216f84c",
   "metadata": {},
   "source": [
    "Now that the matrix model and the cost and independent terms vectors have been defined, the dual problem can be implemented in pyomo."
   ]
  },
  {
   "cell_type": "code",
   "execution_count": 15,
   "id": "663828d1",
   "metadata": {},
   "outputs": [],
   "source": [
    "##IMPLEMENTATION OF THE DUAL MODEL\n",
    "model2 = pyo.ConcreteModel(name=\"ECON DUAL\")\n",
    "\n",
    "#Sets\n",
    "model2.I = pyo.RangeSet(1,A_t.shape[0])\n",
    "model2.J =pyo.RangeSet(1,A_t.shape[1])\n",
    "\n",
    "#Variables\n",
    "model2.x= pyo.Var(model2.J, domain=pyo.Reals, initialize=0) \n",
    "\n",
    "#Objective function\n",
    "def Obj_rule(model2):\n",
    "    return sum(indep[j-1]*model2.x[j] for j in model2.J)\n",
    "model2.Obj = pyo.Objective(rule=Obj_rule, sense=pyo.maximize)\n",
    "\n",
    "#Constraints\n",
    "def dual_constraint_rule(model2, i): \n",
    "    return sum(A_t[i-1,j-1]*model2.x[j] for j in model2.J) <= cost_vector_final[i-1]\n",
    "model2.dual_Constraint = pyo.Constraint(model2.I, rule=dual_constraint_rule)\n"
   ]
  },
  {
   "cell_type": "code",
   "execution_count": 16,
   "id": "0f561270",
   "metadata": {
    "scrolled": true
   },
   "outputs": [
    {
     "name": "stdout",
     "output_type": "stream",
     "text": [
      "GLPSOL: GLPK LP/MIP Solver, v4.65\n",
      "Parameter(s) specified in the command line:\n",
      " --write C:\\Users\\USUARIO\\AppData\\Local\\Temp\\tmp2bvx382w.glpk.raw --wglp C:\\Users\\USUARIO\\AppData\\Local\\Temp\\tmpf4qcetbc.glpk.glp\n",
      " --cpxlp C:\\Users\\USUARIO\\AppData\\Local\\Temp\\tmpj00qlp69.pyomo.lp\n",
      "Reading problem data from 'C:\\Users\\USUARIO\\AppData\\Local\\Temp\\tmpj00qlp69.pyomo.lp'...\n",
      "132 rows, 42 columns, 402 non-zeros\n",
      "867 lines were read\n",
      "Writing problem data to 'C:\\Users\\USUARIO\\AppData\\Local\\Temp\\tmpf4qcetbc.glpk.glp'...\n",
      "771 lines were written\n",
      "GLPK Simplex Optimizer, v4.65\n",
      "132 rows, 42 columns, 402 non-zeros\n",
      "Preprocessing...\n",
      "90 rows, 24 columns, 360 non-zeros\n",
      "Scaling...\n",
      " A: min|aij| =  1.000e+00  max|aij| =  1.200e+03  ratio =  1.200e+03\n",
      "GM: min|aij| =  8.165e-01  max|aij| =  1.225e+00  ratio =  1.500e+00\n",
      "EQ: min|aij| =  6.667e-01  max|aij| =  1.000e+00  ratio =  1.500e+00\n",
      "Constructing initial basis...\n",
      "Size of triangular part is 90\n",
      "*     0: obj =  -0.000000000e+00 inf =   0.000e+00 (10)\n",
      "*    23: obj =   6.209421359e+04 inf =   0.000e+00 (0)\n",
      "OPTIMAL LP SOLUTION FOUND\n",
      "Time used:   0.0 secs\n",
      "Memory used: 0.2 Mb (168095 bytes)\n",
      "Writing basic solution to 'C:\\Users\\USUARIO\\AppData\\Local\\Temp\\tmp2bvx382w.glpk.raw'...\n",
      "183 lines were written\n"
     ]
    }
   ],
   "source": [
    "#Get the results\n",
    "results = opt.solve(model2,tee=True)"
   ]
  },
  {
   "cell_type": "code",
   "execution_count": 17,
   "id": "2ff2661e",
   "metadata": {},
   "outputs": [
    {
     "name": "stdout",
     "output_type": "stream",
     "text": [
      "The value of the objective function for the dual problem is  62094.21358522731\n"
     ]
    }
   ],
   "source": [
    "print('The value of the objective function for the dual problem is ', model2.Obj())"
   ]
  },
  {
   "cell_type": "markdown",
   "id": "67b1a8ff",
   "metadata": {},
   "source": [
    "The Strong Duality Holds, as the value of the objective functions is the same for the primal problem and for the dual problem, and thus the duality gap is zero. "
   ]
  },
  {
   "cell_type": "code",
   "execution_count": 18,
   "id": "5a101ee2",
   "metadata": {
    "scrolled": true
   },
   "outputs": [
    {
     "name": "stdout",
     "output_type": "stream",
     "text": [
      "x : Size=42, Index=J\n",
      "    Key : Lower : Value               : Upper : Fixed : Stale : Domain\n",
      "      1 :  None :    35.2182110705564 :  None : False : False :  Reals\n",
      "      2 :  None :    8.49689841586946 :  None : False : False :  Reals\n",
      "      3 :  None :    25.8502050841478 :  None : False : False :  Reals\n",
      "      4 :  None :                -0.0 :  None : False : False :  Reals\n",
      "      5 :  None :                -0.0 :  None : False : False :  Reals\n",
      "      6 :  None :                -0.0 :  None : False : False :  Reals\n",
      "      7 :  None :    43.0852294812095 :  None : False : False :  Reals\n",
      "      8 :  None :    22.6972987621602 :  None : False : False :  Reals\n",
      "      9 :  None :    30.6393859148723 :  None : False : False :  Reals\n",
      "     10 :  None :    141.700678561181 :  None : False : False :  Reals\n",
      "     11 :  None :    44.0246195067545 :  None : False : False :  Reals\n",
      "     12 :  None :    55.1127444876633 :  None : False : False :  Reals\n",
      "     13 :  None :    12.4933124994241 :  None : False : False :  Reals\n",
      "     14 :  None :    15.0493195167138 :  None : False : False :  Reals\n",
      "     15 :  None :    13.8138315748903 :  None : False : False :  Reals\n",
      "     16 :  None :    11.4659331552791 :  None : False : False :  Reals\n",
      "     17 :  None :    14.0219401725688 :  None : False : False :  Reals\n",
      "     18 :  None :    12.7864522307453 :  None : False : False :  Reals\n",
      "     19 :  None : -0.0237522779152773 :  None : False : False :  Reals\n",
      "     20 :  None :                 0.0 :  None : False : False :  Reals\n",
      "     21 :  None : -0.0305919169817854 :  None : False : False :  Reals\n",
      "     22 :  None :  -0.130234745405901 :  None : False : False :  Reals\n",
      "     23 :  None :                 0.0 :  None : False : False :  Reals\n",
      "     24 :  None :                 0.0 :  None : False : False :  Reals\n",
      "     25 :  None :                 0.0 :  None : False : False :  Reals\n",
      "     26 :  None :                 0.0 :  None : False : False :  Reals\n",
      "     27 :  None :                 0.0 :  None : False : False :  Reals\n",
      "     28 :  None :                 0.0 :  None : False : False :  Reals\n",
      "     29 :  None :                 0.0 :  None : False : False :  Reals\n",
      "     30 :  None :                 0.0 :  None : False : False :  Reals\n",
      "     31 :  None :                 0.0 :  None : False : False :  Reals\n",
      "     32 :  None :                 0.0 :  None : False : False :  Reals\n",
      "     33 :  None :                 0.0 :  None : False : False :  Reals\n",
      "     34 :  None :                 0.0 :  None : False : False :  Reals\n",
      "     35 :  None :                 0.0 :  None : False : False :  Reals\n",
      "     36 :  None :                 0.0 :  None : False : False :  Reals\n",
      "     37 :  None :                 0.0 :  None : False : False :  Reals\n",
      "     38 :  None :                 0.0 :  None : False : False :  Reals\n",
      "     39 :  None :                 0.0 :  None : False : False :  Reals\n",
      "     40 :  None :                 0.0 :  None : False : False :  Reals\n",
      "     41 :  None :                 0.0 :  None : False : False :  Reals\n",
      "     42 :  None :                 0.0 :  None : False : False :  Reals\n"
     ]
    }
   ],
   "source": [
    "#Show the values of the dual variables\n",
    "model2.x.display()"
   ]
  },
  {
   "cell_type": "markdown",
   "id": "685f09a0",
   "metadata": {},
   "source": [
    "Looking at the solutions for the dual problem, they are the same as the sensitivities for the primal problem, as they are supposed to be."
   ]
  },
  {
   "cell_type": "markdown",
   "id": "05b73665",
   "metadata": {},
   "source": [
    "## e) Modify the problem in a) to impose some logical or conditional (linear) constraints that require the use of binary or integer variables. If needed, the model can besubstantially different than a). Implement and solve this new model in Pyomo and interpret the results. Include the data used for the solution of the problem."
   ]
  },
  {
   "cell_type": "markdown",
   "id": "427211f5",
   "metadata": {},
   "source": [
    "Due to the complications arisen from interspatial bureaucracy and use of travel routes, it has been established by the company SpaceZ that **the number of planets with which the planets can exchange goods mustn't be greater than 2**, if possible. Due to this, the problem must be changed with the introduction of binary variables, that establish whether an exchange between planets takes place or not.\n",
    "\n",
    "The new variables are defined as follows:\n",
    "\n",
    "\n",
    "$$y_{ij}=\\left\\{\\begin{array}{ll}\n",
    "1 & \\textrm{if planet $i$ sends any resource to planet $j$}\\\\\n",
    "0 & \\textrm{if planet $i$ does't send any resource to planet $j$}\n",
    "\\end{array}\\right.$$\n",
    "\n",
    "With them, the formulation of the new model is as follows:\n",
    "\n",
    "\\begin{align*}\n",
    "\\underset{x_{ij}^k}{\\min} & \\quad \\sum_{i=1}^{n}\\sum_{j=1,\\,j\\neq i}^{n}\\sum_{k=1}^{m}c_{ij}x_{ij}^k\\\\\n",
    "\\text{s.t.:}&\\\\\n",
    "  &\\sum_{j=1}^{n} x_{ji}^k-\\sum_{j=1}^{n} x_{ij}^k+s_i^k\\,\\geq d_i^k \\quad \\forall i\\in\\{1,\\,...,\\,n\\},\\,k\\in\\{1,\\,...,\\,m\\}\\\\\n",
    "  &\\sum_{j=1}^{n}\\sum_{k=1}^{m} p^k x_{ji}^k \\leq 1.5\\sum_{j=1}^{n}\\sum_{k=1}^{m} p^k x_{ij}^k\\quad \\forall i\\in\\{1,\\,...,\\,n\\}\\\\\n",
    "  &x_{ii}^k=0\\quad \\forall i\\in\\{1,\\,...,\\,n\\},\\,k\\in\\{1,\\,...,\\,m\\}\\\\\n",
    "  &x_{ij}^k\\leq M\\cdot y_{ij} \\quad \\forall i,j\\in\\{1,\\,...,\\,n\\},\\,k\\in\\{1,\\,...,\\,m\\}\\\\\n",
    "  &\\sum_{j=1}^n y_{ij} \\leq 2 \\quad \\forall i\\in\\{1,\\,...,\\,n\\}\\\\\n",
    "  &y_{ij}=y_{ij} \\quad \\forall i,j\\in\\{1,\\,...,\\,n\\}\\\\\n",
    "  &x_{ij}^k \\geq 0 \\quad \\forall i,\\,j\\in\\{1,\\,...,\\,n\\},\\,k\\in\\{1,\\,...,\\,m\\}\\\\\n",
    "  &y_{ij}\\in\\{0,1\\}\n",
    "\\end{align*}\n",
    "\n",
    "To understand the new model, the new constraints must be explained:\n",
    "\n",
    "- **$\\underline{x_{ij}^k\\leq M\\cdot y_{ij} \\quad \\forall i,j\\in\\{1,\\,...,\\,n\\},\\,k\\in\\{1,\\,...,\\,m\\}}$**: this constraint limits the value of the exchanged resources from planet *i* to planet *j* depending on the value of the binary variable $y_{ij}$. If $y_{ij}=0$, then the two planets can't exchange resources, and thus $x_{ij}^k=0 \\quad \\forall k\\in\\{1,\\,...,\\,m\\}$. If $y_{ij}=1$, then the planets can exchange resources, so that $x_{ij}^k$ can be greater than 0. The scalar *M* is chosen big enough  (bigger than the range of the problem, depending on the initial conditions) so that it doesn't limit the possible values that $x_{ij}^k>0$ may take.\n",
    "\n",
    "- **$\\underline{\\sum_{j=1}^n y_{ij} \\leq 2 \\quad \\forall i\\in\\{1,\\,...,\\,n\\}}$**: this constraint limits the number of planets each planet can exchange resources with to 2(different cases for sending resources and receiving resources).\n",
    "\n",
    "- **$\\underline{y_{ij}=y_{ij} \\quad \\forall i,j\\in\\{1,\\,...,\\,n\\}}$**: this constraint eliminates the difference between the sending and the receiving cases, and simply takes into account a transaction in a general sense, so that exchanges are always with the same planets (for instance, to avoid that a planet sends resources to two planets and receives resources from two different ones).\n"
   ]
  },
  {
   "cell_type": "markdown",
   "id": "77ba3070",
   "metadata": {},
   "source": [
    "Now that the new model is defined, it is time to implement it on pyomo."
   ]
  },
  {
   "cell_type": "code",
   "execution_count": 19,
   "id": "8a1da7e6",
   "metadata": {},
   "outputs": [],
   "source": [
    "##IMPLEMENTATION OF MODEL\n",
    "\n",
    "#Import the pyomo package and the solver\n",
    "import pyomo.environ as pyo\n",
    "from pyomo.environ import *\n",
    "opt = pyo.SolverFactory('glpk')\n",
    "\n",
    "#Create the model\n",
    "model = pyo.ConcreteModel(name=\"ECON\")\n",
    "\n",
    "#Sets\n",
    "model.I = pyo.RangeSet(1,n)\n",
    "model.J = pyo.RangeSet(1,n)\n",
    "model.K =pyo.RangeSet(1,m)\n",
    "\n",
    "M=5000 #define the upper limit for the non-zero continuous variables\n",
    "\n",
    "#Variables\n",
    "model.x = pyo.Var(model.I, model.J, model.K, domain=pyo.NonNegativeReals, initialize=0)\n",
    "\n",
    "model.y =pyo.Var(model.I, model.J, domain=pyo.Binary) #define the binary variables\n",
    "\n",
    "#Objective function\n",
    "def Obj_rule(model):\n",
    "    return sum(cost[i-1,j-1]*model.x[i,j,k] for i in model.I for j in model.J for k in model.K)\n",
    "model.Obj = pyo.Objective(rule=Obj_rule, sense=pyo.minimize)\n",
    "\n",
    "#Linear continuous constraints\n",
    "\n",
    "def material_constraint_rule(model, i, k): \n",
    "    return sum(model.x[j,i,k]-model.x[i,j,k] for j in model.J if (i!=j)) >= dem[i-1,k-1]-stock[i-1,k-1]\n",
    "model.material_Constraint = pyo.Constraint(model.I, model.K, rule=material_constraint_rule)\n",
    "\n",
    "def econ_constraint_rule(model, i):\n",
    "    return sum(p[k-1]*model.x[j,i,k]-1.5*p[k-1]*model.x[i,j,k] for j in model.J if (i!=j) for k in model.K)<=0\n",
    "model.econ_Constraint = pyo.Constraint(model.I, rule=econ_constraint_rule)\n",
    "    \n",
    "def no_inner_constraint_rule(model,i,k):\n",
    "    return model.x[i,i,k] == 0\n",
    "model.no_inner_Constraint = pyo.Constraint(model.I, model.K, rule=no_inner_constraint_rule)\n",
    "\n",
    "#Linear binary constraints\n",
    "def exchange_existence_constraint_rule(model, i, j, k):\n",
    "    return model.x[i,j,k] <=M*model.y[i,j]\n",
    "model.exchange_existence_Constraint = pyo.Constraint(model.I, model.J, model.K, rule=exchange_existence_constraint_rule)\n",
    "\n",
    "def limit_exchanges_constraint_rule(model, i):\n",
    "    return sum(model.y[i,j] for j in model.J)<=2\n",
    "model.limit_exchanges_Constraint=pyo.Constraint(model.I, rule=limit_exchanges_constraint_rule)\n",
    "\n",
    "def equality_constraint_rule(model, i, j):\n",
    "    return model.y[i,j]==model.y[j,i]\n",
    "model.equality_Constraint = pyo.Constraint(model.I, model.J, rule=equality_constraint_rule)\n"
   ]
  },
  {
   "cell_type": "code",
   "execution_count": 20,
   "id": "ca4778d2",
   "metadata": {},
   "outputs": [
    {
     "name": "stdout",
     "output_type": "stream",
     "text": [
      "GLPSOL: GLPK LP/MIP Solver, v4.65\n",
      "Parameter(s) specified in the command line:\n",
      " --write C:\\Users\\USUARIO\\AppData\\Local\\Temp\\tmpjhqmpgfj.glpk.raw --wglp C:\\Users\\USUARIO\\AppData\\Local\\Temp\\tmpk2lph0bj.glpk.glp\n",
      " --cpxlp C:\\Users\\USUARIO\\AppData\\Local\\Temp\\tmpxntsjdjp.pyomo.lp\n",
      "Reading problem data from 'C:\\Users\\USUARIO\\AppData\\Local\\Temp\\tmpxntsjdjp.pyomo.lp'...\n",
      "C:\\Users\\USUARIO\\AppData\\Local\\Temp\\tmpxntsjdjp.pyomo.lp:1517: warning: lower bound of variable 'x153' redefined\n",
      "C:\\Users\\USUARIO\\AppData\\Local\\Temp\\tmpxntsjdjp.pyomo.lp:1517: warning: upper bound of variable 'x153' redefined\n",
      "192 rows, 145 columns, 690 non-zeros\n",
      "36 integer variables, all of which are binary\n",
      "1553 lines were read\n",
      "Writing problem data to 'C:\\Users\\USUARIO\\AppData\\Local\\Temp\\tmpk2lph0bj.glpk.glp'...\n",
      "1367 lines were written\n",
      "GLPK Integer Optimizer, v4.65\n",
      "192 rows, 145 columns, 690 non-zeros\n",
      "36 integer variables, all of which are binary\n",
      "Preprocessing...\n",
      "150 rows, 126 columns, 636 non-zeros\n",
      "36 integer variables, all of which are binary\n",
      "Scaling...\n",
      " A: min|aij| =  1.000e+00  max|aij| =  5.000e+03  ratio =  5.000e+03\n",
      "GM: min|aij| =  5.850e-01  max|aij| =  1.709e+00  ratio =  2.922e+00\n",
      "EQ: min|aij| =  3.448e-01  max|aij| =  1.000e+00  ratio =  2.900e+00\n",
      "2N: min|aij| =  1.953e-01  max|aij| =  1.000e+00  ratio =  5.120e+00\n",
      "Constructing initial basis...\n",
      "Size of triangular part is 135\n",
      "Solving LP relaxation...\n",
      "GLPK Simplex Optimizer, v4.65\n",
      "150 rows, 126 columns, 636 non-zeros\n",
      "      0: obj =   0.000000000e+00 inf =   5.352e+01 (10)\n",
      "     67: obj =   1.260228500e+05 inf =   1.554e-14 (0)\n",
      "*   121: obj =   6.209421359e+04 inf =   1.069e-12 (0)\n",
      "OPTIMAL LP SOLUTION FOUND\n",
      "Integer optimization begins...\n",
      "Long-step dual simplex will be used\n",
      "+   121: mip =     not found yet >=              -inf        (1; 0)\n",
      "+   135: >>>>>   6.458896656e+04 >=   6.295134004e+04   2.5% (7; 0)\n",
      "+   152: mip =   6.458896656e+04 >=     tree is empty   0.0% (0; 13)\n",
      "INTEGER OPTIMAL SOLUTION FOUND\n",
      "Time used:   0.0 secs\n",
      "Memory used: 0.4 Mb (396742 bytes)\n",
      "Writing MIP solution to 'C:\\Users\\USUARIO\\AppData\\Local\\Temp\\tmpjhqmpgfj.glpk.raw'...\n",
      "346 lines were written\n"
     ]
    }
   ],
   "source": [
    "#Get the solution\n",
    "\n",
    "results = opt.solve(model,tee=True)"
   ]
  },
  {
   "cell_type": "code",
   "execution_count": 21,
   "id": "5de19a76",
   "metadata": {},
   "outputs": [
    {
     "name": "stdout",
     "output_type": "stream",
     "text": [
      "The total cost of transportation of resources is  64588.96656257513 Cs\n"
     ]
    }
   ],
   "source": [
    "print('The total cost of transportation of resources is ', model.Obj(), 'Cs')"
   ]
  },
  {
   "cell_type": "markdown",
   "id": "6b01dcd4",
   "metadata": {},
   "source": [
    "As expected, the extra constraint means that the objective function value increases (the original was 62094.21358522732 Cs), because the objective is harder to obtain, and the variables have less freedom to minimize the objective function. If the solution to the primal problem is studied, it involves exchanges with up to 3 other planets, and so this more restrictive situation gives a higher total transportation cost."
   ]
  },
  {
   "cell_type": "code",
   "execution_count": 22,
   "id": "09ac132c",
   "metadata": {},
   "outputs": [
    {
     "name": "stdout",
     "output_type": "stream",
     "text": [
      "Allowed exchanges\n",
      " \n",
      "( 1 ,  2 )\n",
      "( 1 ,  4 )\n",
      " \n",
      "( 2 ,  1 )\n",
      "( 2 ,  6 )\n",
      " \n",
      "( 3 ,  4 )\n",
      "( 3 ,  5 )\n",
      " \n",
      "( 4 ,  1 )\n",
      "( 4 ,  3 )\n",
      " \n",
      "( 5 ,  3 )\n",
      "( 5 ,  6 )\n",
      " \n",
      "( 6 ,  2 )\n",
      "( 6 ,  5 )\n",
      " \n"
     ]
    }
   ],
   "source": [
    "print('Allowed exchanges')\n",
    "print(' ')\n",
    "for i in range(n):\n",
    "    for j in range(n):\n",
    "        y=pyo.value(model.y[i+1, j+1])\n",
    "        if y!=0:\n",
    "            print('(',i+1,', ',j+1,')')\n",
    "    print(' ')"
   ]
  },
  {
   "cell_type": "markdown",
   "id": "bca3d769",
   "metadata": {},
   "source": [
    "Looking at the allowed commerce routes in the problem, we have that planet 1 is connected to planets 2 and 4, planet 2 to planets 1 and 6, planet 3 to planets 4 and 5, planet 4 to planets 1 and 3, planet 5 to planets 3 and 6, and planet 6 to planets 1 and 5.\n",
    "\n",
    "Below, the exchanged quantities between the planets for each resource for the new problem are shown, with the same formulation as for the original problem, that is, $x(i,j,k)$ is the amount (in kg) of resource *k* that planet *i* sends to planet *j*."
   ]
  },
  {
   "cell_type": "code",
   "execution_count": 23,
   "id": "5281fd42",
   "metadata": {},
   "outputs": [
    {
     "name": "stdout",
     "output_type": "stream",
     "text": [
      "Exchanged quantities of resources (kg)\n",
      " \n",
      " \n",
      "x( 1 ,  4 , 1)=  96.1389037685869\n",
      "x( 1 ,  4 , 2)=  636.646197053704\n",
      " \n",
      "x( 2 ,  1 , 2)=  27.9493000457421\n",
      "x( 2 ,  6 , 1)=  54.2109867806614\n",
      "x( 2 ,  6 , 2)=  626.560142313237\n",
      "x( 2 ,  6 , 3)=  128.603833406596\n",
      " \n",
      "x( 3 ,  4 , 1)=  185.407555286754\n",
      "x( 3 ,  5 , 1)=  506.4618237697\n",
      "x( 3 ,  5 , 3)=  30.0311018983889\n",
      " \n",
      "x( 4 ,  1 , 1)=  120.460582782229\n",
      "x( 4 ,  1 , 3)=  165.426375285169\n",
      "x( 4 ,  3 , 3)=  48.8912966353696\n",
      " \n",
      "x( 5 ,  3 , 1)=  1019.28238173272\n",
      "x( 5 ,  3 , 2)=  269.434483116801\n",
      " \n",
      "x( 6 ,  5 , 1)=  472.638695336719\n",
      "x( 6 ,  5 , 2)=  739.580751442712\n",
      "x( 6 ,  5 , 3)=  39.701127645267\n"
     ]
    }
   ],
   "source": [
    "print('Exchanged quantities of resources (kg)')\n",
    "print(' ')\n",
    "x_sol_1=np.zeros((n,n))\n",
    "x_sol_2=np.zeros((n,n))\n",
    "x_sol_3=np.zeros((n,n))\n",
    "for i in range(0,n):\n",
    "    print(' ')\n",
    "    for j in range(0,n):\n",
    "        x_sol_1[i,j]=pyo.value(model.x[i+1,j+1,1])\n",
    "        x_sol_2[i,j]=pyo.value(model.x[i+1,j+1,2])\n",
    "        x_sol_3[i,j]=pyo.value(model.x[i+1, j+1,3])\n",
    "        if x_sol_1[i,j]!=0:\n",
    "            print('x(',i+1,', ',j+1,', 1)= ', x_sol_1[i,j])\n",
    "        if x_sol_2[i,j]!=0:\n",
    "            print('x(',i+1,', ',j+1,', 2)= ', x_sol_2[i,j])\n",
    "        if x_sol_3[i,j]!=0:\n",
    "            print('x(',i+1,', ',j+1,', 3)= ', x_sol_3[i,j])"
   ]
  },
  {
   "cell_type": "markdown",
   "id": "50233fd8",
   "metadata": {},
   "source": [
    "## f) Write the code to define the relaxed problem corresponding to the one in e), that is, the linear optimization problem you would obtain if you do not take into account any integrality constraints on the variables. Compare the solutions for both problems and comment on them."
   ]
  },
  {
   "cell_type": "markdown",
   "id": "4c4e929a",
   "metadata": {},
   "source": [
    "In this case, it is only necessary to change the domain of the binary variables to non negative real numbers (the non negativity is needed so that the problem makes sense, as the original continuous variables can't take negative values)."
   ]
  },
  {
   "cell_type": "code",
   "execution_count": 24,
   "id": "7dbe9050",
   "metadata": {},
   "outputs": [],
   "source": [
    "##IMPLEMENTATION OF MODEL\n",
    "\n",
    "#Import the pyomo package and the solver\n",
    "import pyomo.environ as pyo\n",
    "from pyomo.environ import *\n",
    "opt = pyo.SolverFactory('glpk')\n",
    "\n",
    "#Create the model\n",
    "model = pyo.ConcreteModel(name=\"ECON\")\n",
    "\n",
    "#Sets\n",
    "model.I = pyo.RangeSet(1,n)\n",
    "model.J = pyo.RangeSet(1,n)\n",
    "model.K =pyo.RangeSet(1,m)\n",
    "\n",
    "M=2000\n",
    "\n",
    "#Variables\n",
    "model.x = pyo.Var(model.I, model.J, model.K, domain=pyo.NonNegativeReals, initialize=0)\n",
    "\n",
    "model.y =pyo.Var(model.I, model.J, domain=pyo.NonNegativeReals, initialize=0) #relax the binary condition on the y variables\n",
    "\n",
    "\n",
    "#Objective function\n",
    "def Obj_rule(model):\n",
    "    return sum(cost[i-1,j-1]*model.x[i,j,k] for i in model.I for j in model.J for k in model.K)\n",
    "model.Obj = pyo.Objective(rule=Obj_rule, sense=pyo.minimize)\n",
    "\n",
    "#Constraints\n",
    "\n",
    "def material_constraint_rule(model, i, k): \n",
    "    return sum(model.x[j,i,k]-model.x[i,j,k] for j in model.J if (i!=j)) >= dem[i-1,k-1]-stock[i-1,k-1]\n",
    "model.material_Constraint = pyo.Constraint(model.I, model.K, rule=material_constraint_rule)\n",
    "\n",
    "def econ_constraint_rule(model, i):\n",
    "    return sum(p[k-1]*model.x[j,i,k]-1.5*p[k-1]*model.x[i,j,k] for j in model.J if (i!=j) for k in model.K)<=0\n",
    "model.econ_Constraint = pyo.Constraint(model.I, rule=econ_constraint_rule)\n",
    "    \n",
    "def no_inner_constraint_rule(model,i,k):\n",
    "    return model.x[i,i,k] == 0\n",
    "model.no_inner_Constraint = pyo.Constraint(model.I, model.K, rule=no_inner_constraint_rule)\n",
    "\n",
    "def exchange_existence_constraint_rule(model, i, j, k):\n",
    "    return model.x[i,j,k] <=M*model.y[i,j]\n",
    "model.exchange_existence_Constraint = pyo.Constraint(model.I, model.J, model.K, rule=exchange_existence_constraint_rule)\n",
    "\n",
    "def limit_exchanges_constraint_rule(model, i):\n",
    "    return sum(model.y[i,j] for j in model.J)<=2\n",
    "model.limit_exchanges_Constraint=pyo.Constraint(model.I, rule=limit_exchanges_constraint_rule)\n",
    "\n",
    "def equality_constraint_rule(model, i, j):\n",
    "    return model.y[i,j]==model.y[j,i]\n",
    "model.equality_Constraint = pyo.Constraint(model.I, model.J, rule=equality_constraint_rule)\n"
   ]
  },
  {
   "cell_type": "code",
   "execution_count": 25,
   "id": "291937b8",
   "metadata": {},
   "outputs": [
    {
     "name": "stdout",
     "output_type": "stream",
     "text": [
      "GLPSOL: GLPK LP/MIP Solver, v4.65\n",
      "Parameter(s) specified in the command line:\n",
      " --write C:\\Users\\USUARIO\\AppData\\Local\\Temp\\tmp88jx1iaq.glpk.raw --wglp C:\\Users\\USUARIO\\AppData\\Local\\Temp\\tmpecgfo1q3.glpk.glp\n",
      " --cpxlp C:\\Users\\USUARIO\\AppData\\Local\\Temp\\tmpsfa62w_8.pyomo.lp\n",
      "Reading problem data from 'C:\\Users\\USUARIO\\AppData\\Local\\Temp\\tmpsfa62w_8.pyomo.lp'...\n",
      "192 rows, 145 columns, 690 non-zeros\n",
      "1516 lines were read\n",
      "Writing problem data to 'C:\\Users\\USUARIO\\AppData\\Local\\Temp\\tmpecgfo1q3.glpk.glp'...\n",
      "1259 lines were written\n",
      "GLPK Simplex Optimizer, v4.65\n",
      "192 rows, 145 columns, 690 non-zeros\n",
      "Preprocessing...\n",
      "150 rows, 126 columns, 636 non-zeros\n",
      "Scaling...\n",
      " A: min|aij| =  1.000e+00  max|aij| =  2.000e+03  ratio =  2.000e+03\n",
      "GM: min|aij| =  5.858e-01  max|aij| =  1.707e+00  ratio =  2.915e+00\n",
      "EQ: min|aij| =  3.452e-01  max|aij| =  1.000e+00  ratio =  2.897e+00\n",
      "Constructing initial basis...\n",
      "Size of triangular part is 135\n",
      "      0: obj =   0.000000000e+00 inf =   7.222e+01 (10)\n",
      "     62: obj =   1.334126310e+05 inf =   0.000e+00 (0)\n",
      "*   116: obj =   6.209421359e+04 inf =   1.539e-12 (0)\n",
      "OPTIMAL LP SOLUTION FOUND\n",
      "Time used:   0.0 secs\n",
      "Memory used: 0.4 Mb (400129 bytes)\n",
      "Writing basic solution to 'C:\\Users\\USUARIO\\AppData\\Local\\Temp\\tmp88jx1iaq.glpk.raw'...\n",
      "346 lines were written\n"
     ]
    }
   ],
   "source": [
    "#Get the solution\n",
    "\n",
    "results = opt.solve(model,tee=True)"
   ]
  },
  {
   "cell_type": "code",
   "execution_count": 26,
   "id": "42c3e483",
   "metadata": {},
   "outputs": [
    {
     "name": "stdout",
     "output_type": "stream",
     "text": [
      "The total cost of transportation of resources is  62094.21358522847 Cs\n"
     ]
    }
   ],
   "source": [
    "print('The total cost of transportation of resources is ', model.Obj(), 'Cs')"
   ]
  },
  {
   "cell_type": "markdown",
   "id": "c4125cf0",
   "metadata": {},
   "source": [
    "For the relaxed problem, the total transportation cost is almost the same as for the original problem, but just a little bit higher: the original total cost was 62094.21358522732, the values differ only after the ninth decimal value.\n",
    "\n",
    "If the integrality of the restraining variables is ignored, the variables have much more freedom to take values, and we can arrive at a total cost that is almost the same as for the original case (in practice it may be taken to be the same). This is because, as M is very large, and the non integrality of the new variables allows that the restriction $\\sum_{j=1}^n y_{ij} \\leq 2 \\quad \\forall i\\in\\{1,\\,...,\\,n\\}$ doesn't necessarily force the variables $y_{ij}$ to zero, and when they are multiplied by the very big *M*, the upper limit for the value of the variables $x_{ij}^k$ is big enough so that it doesn't affect the problem. The exact values of the variables $x_{ij}^k$ may change, but the final result will approach the \"true\" optimal value of the problem, but never surpassing it, as there are still more restrictions upon the problem.\n",
    "\n"
   ]
  },
  {
   "cell_type": "code",
   "execution_count": 28,
   "id": "47b77640",
   "metadata": {},
   "outputs": [
    {
     "name": "stdout",
     "output_type": "stream",
     "text": [
      "Allowed exchanges\n",
      " \n",
      "y( 1 ,  2 )=  0.0643019167032956\n",
      "y( 1 ,  4 )=  0.304348448503999\n",
      "y( 1 ,  6 )=  2.16831765957174e-16\n",
      " \n",
      "y( 2 ,  1 )=  0.0643019167032956\n",
      "y( 2 ,  3 )=  2.45625760721352e-15\n",
      "y( 2 ,  4 )=  0.0271054933903298\n",
      "y( 2 ,  6 )=  0.313280071156622\n",
      " \n",
      "y( 3 ,  2 )=  2.45625760721352e-15\n",
      "y( 3 ,  4 )=  -4.33684698471297e-15\n",
      "y( 3 ,  5 )=  0.516210494406636\n",
      "y( 3 ,  6 )=  7.69631154545956e-17\n",
      " \n",
      "y( 4 ,  1 )=  0.304348448503999\n",
      "y( 4 ,  2 )=  0.0271054933903298\n",
      "y( 4 ,  3 )=  -4.33684698471297e-15\n",
      "y( 4 ,  5 )=  1.96419214953547e-16\n",
      "y( 4 ,  6 )=  0.088747565020978\n",
      " \n",
      "y( 5 ,  3 )=  0.516210494406636\n",
      "y( 5 ,  4 )=  1.96419214953547e-16\n",
      "y( 5 ,  6 )=  0.36979037572135\n",
      " \n",
      "y( 6 ,  1 )=  2.16831765957174e-16\n",
      "y( 6 ,  2 )=  0.313280071156622\n",
      "y( 6 ,  3 )=  7.69631154545956e-17\n",
      "y( 6 ,  4 )=  0.088747565020978\n",
      "y( 6 ,  5 )=  0.36979037572135\n",
      " \n"
     ]
    }
   ],
   "source": [
    "print('Allowed exchanges')\n",
    "print(' ')\n",
    "for i in range(n):\n",
    "    for j in range(n):\n",
    "        y=pyo.value(model.y[i+1, j+1])\n",
    "        if y!=0:\n",
    "            print('y(',i+1,', ',j+1,')= ', y)\n",
    "    print(' ')"
   ]
  },
  {
   "cell_type": "code",
   "execution_count": 29,
   "id": "6c63b65d",
   "metadata": {},
   "outputs": [
    {
     "name": "stdout",
     "output_type": "stream",
     "text": [
      "Exchanged quantities of resources (kg)\n",
      " \n",
      " \n",
      "x( 1 ,  4 , 1)=  79.260768212815\n",
      "x( 1 ,  4 , 2)=  608.696897007998\n",
      " \n",
      "x( 2 ,  1 , 3)=  128.603833406592\n",
      "x( 2 ,  4 , 1)=  54.2109867806571\n",
      "x( 2 ,  4 , 2)=  27.9493000457592\n",
      "x( 2 ,  6 , 2)=  626.560142313224\n",
      " \n",
      "x( 3 ,  5 , 1)=  705.007986137\n",
      " \n",
      "x( 4 ,  1 , 1)=  103.582447226457\n",
      "x( 4 ,  1 , 3)=  36.8225418785808\n",
      "x( 4 ,  6 , 1)=  16.8781355557747\n",
      "x( 4 ,  6 , 3)=  177.495130041954\n",
      " \n",
      "x( 5 ,  3 , 1)=  1032.42098881327\n",
      "x( 5 ,  3 , 2)=  269.43448311679\n",
      "x( 5 ,  3 , 3)=  18.8601947369802\n",
      " \n",
      "x( 6 ,  4 , 1)=  148.074704061865\n",
      "x( 6 ,  5 , 1)=  287.231140049965\n",
      "x( 6 ,  5 , 2)=  739.580751442699\n",
      "x( 6 ,  5 , 3)=  88.5924242806359\n"
     ]
    }
   ],
   "source": [
    "print('Exchanged quantities of resources (kg)')\n",
    "print(' ')\n",
    "x_sol_1=np.zeros((n,n))\n",
    "x_sol_2=np.zeros((n,n))\n",
    "x_sol_3=np.zeros((n,n))\n",
    "for i in range(0,n):\n",
    "    print(' ')\n",
    "    for j in range(0,n):\n",
    "        x_sol_1[i,j]=pyo.value(model.x[i+1,j+1,1])\n",
    "        x_sol_2[i,j]=pyo.value(model.x[i+1,j+1,2])\n",
    "        x_sol_3[i,j]=pyo.value(model.x[i+1, j+1,3])\n",
    "        if x_sol_1[i,j]!=0:\n",
    "            print('x(',i+1,', ',j+1,', 1)= ', x_sol_1[i,j])\n",
    "        if x_sol_2[i,j]!=0:\n",
    "            print('x(',i+1,', ',j+1,', 2)= ', x_sol_2[i,j])\n",
    "        if x_sol_3[i,j]!=0:\n",
    "            print('x(',i+1,', ',j+1,', 3)= ', x_sol_3[i,j])"
   ]
  },
  {
   "cell_type": "markdown",
   "id": "9c92d7e1",
   "metadata": {},
   "source": [
    "## g) For the integer problem in e), solve several instances with different sizes (different numbers of variables) using randomly generated data. Comment on the impact of the size of the problem on the time required to solve it."
   ]
  },
  {
   "cell_type": "markdown",
   "id": "f19d1aaf",
   "metadata": {},
   "source": [
    "For this, a function is defined that creates a model like the one in e), and returns the time it takes for the model to solve the problem depending on the number *n* of planets (the time takes into account only the work of the solver to solve the problem, not the random generation of data or the definition of the model)."
   ]
  },
  {
   "cell_type": "code",
   "execution_count": 30,
   "id": "108d7e8e",
   "metadata": {},
   "outputs": [],
   "source": [
    "import time #import the function to measure time in the code\n",
    "\n",
    "\n",
    "def modelo(n):\n",
    "          \n",
    "    #GENERATE THE DATA\n",
    "    \n",
    "    np.random.seed(241024) #the seed is set to ensure reproducibility\n",
    "    \n",
    "    #Distance matrix\n",
    "    upper_tri = np.random.uniform(0, 1, size=(n, n)) #randomly generate an upper triangular matrix with values uniformly distributed\n",
    "                                                 #between 0 and 1\n",
    "\n",
    "    dist= np.triu(upper_tri) + np.triu(upper_tri, 1).T #create a symmetric matrix by adding the upper triangular matrix and its\n",
    "                                                       #transpose\n",
    "\n",
    "    np.fill_diagonal(dist,0) #fill the diagonal with zeros (the distance from a planet to itself is zero)\n",
    "\n",
    "\n",
    "    #Cost matrix\n",
    "\n",
    "    cost=c*dist\n",
    "\n",
    "    #Demand matrix\n",
    "\n",
    "    d_1=np.random.uniform(0, 500, size=n) #generate average demands of resource 1 (minerals) for each planet\n",
    "\n",
    "    D1=sum(d_1) #total demand of resource 1 (minerals)\n",
    "\n",
    "    d_2=np.random.uniform(0, 1200, size=n) #generate average demand of resource 2 (crops) for each planet\n",
    "\n",
    "    D2=sum(d_2) #total demand of resource 2 (crops)\n",
    "\n",
    "    d_3=np.random.uniform(0,350, size=n) #generate average demand for resource 3 (fuel)\n",
    "\n",
    "    D3=sum(d_3) #total demand of resource 3(fuel)\n",
    "\n",
    "    dem=np.column_stack((d_1, d_2, d_3))\n",
    "\n",
    "    #Stock matrix\n",
    "\n",
    "    epsilon=1 #defines surplus of resources\n",
    "\n",
    "    S1=epsilon*D1 #defines the total amount of resource 1 available\n",
    "\n",
    "    s_1=np.random.dirichlet(np.ones(n))*S1 #generate random set of proportions so that the total stock is shared among all the \n",
    "                                           #planets\n",
    "\n",
    "    S2=epsilon*D2 #defines the total amount of resource 2 available\n",
    "\n",
    "    s_2=np.random.dirichlet(np.ones(n))*S2 #generate random set of proportions so that the total stock is shared among all the \n",
    "                                           #planets\n",
    "\n",
    "    S3=epsilon*D3 #defines the total amount of resource 2 available\n",
    "\n",
    "    s_3=np.random.dirichlet(np.ones(n))*S3 #generate random set of proportions so that the total stock is shared among all the \n",
    "                                           #planets\n",
    "\n",
    "\n",
    "    stock=np.column_stack((s_1, s_2, s_3))\n",
    "    \n",
    "    #IMPLEMENT THE DATA\n",
    "    \n",
    "    \n",
    "    opt = pyo.SolverFactory('glpk')\n",
    "\n",
    "    #Create the model\n",
    "    model = pyo.ConcreteModel(name=\"ECON\")\n",
    "\n",
    "    #Sets\n",
    "    model.I = pyo.RangeSet(1,n)\n",
    "    model.J = pyo.RangeSet(1,n)\n",
    "    model.K =pyo.RangeSet(1,m)\n",
    "\n",
    "    M=2000\n",
    "\n",
    "    #Variables\n",
    "    model.x = pyo.Var(model.I, model.J, model.K, domain=pyo.NonNegativeReals, initialize=0)\n",
    "\n",
    "    model.y =pyo.Var(model.I, model.J, domain=pyo.Binary)\n",
    "\n",
    "    #Objective function\n",
    "    def Obj_rule(model):\n",
    "        return sum(cost[i-1,j-1]*model.x[i,j,k] for i in model.I for j in model.J for k in model.K)\n",
    "    model.Obj = pyo.Objective(rule=Obj_rule, sense=pyo.minimize)\n",
    "    \n",
    "    #Constraints\n",
    "    def material_constraint_rule(model, i, k): \n",
    "        return sum(model.x[j,i,k]-model.x[i,j,k] for j in model.J if (i!=j)) >= dem[i-1,k-1]-stock[i-1,k-1]\n",
    "    model.material_Constraint = pyo.Constraint(model.I, model.K, rule=material_constraint_rule)\n",
    "\n",
    "    def econ_constraint_rule(model, i):\n",
    "        return sum(p[k-1]*model.x[j,i,k]-1.5*p[k-1]*model.x[i,j,k] for j in model.J if (i!=j) for k in model.K)<=0\n",
    "    model.econ_Constraint = pyo.Constraint(model.I, rule=econ_constraint_rule)\n",
    "\n",
    "    def no_inner_constraint_rule(model,i,k):\n",
    "        return model.x[i,i,k] == 0\n",
    "    model.no_inner_Constraint = pyo.Constraint(model.I, model.K, rule=no_inner_constraint_rule)\n",
    "\n",
    "    def exchange_existence_constraint_rule(model, i, j, k):\n",
    "        return model.x[i,j,k] <=M*model.y[i,j]\n",
    "    model.exchange_existence_Constraint = pyo.Constraint(model.I, model.J, model.K, rule=exchange_existence_constraint_rule)\n",
    "\n",
    "    def limit_exchanges_constraint_rule(model, i):\n",
    "        return sum(model.y[i,j] for j in model.J)<=2\n",
    "    model.limit_exchanges_Constraint=pyo.Constraint(model.I, rule=limit_exchanges_constraint_rule)\n",
    "    def equality_constraint_rule(model, i, j):\n",
    "        return model.y[i,j]==model.y[j,i]\n",
    "    model.equality_Constraint = pyo.Constraint(model.I, model.J, rule=equality_constraint_rule)\n",
    "    \n",
    "    \n",
    "    #Get the solution\n",
    "    \n",
    "    start= time.time() #set the starting time of the timer\n",
    "    results = opt.solve(model,tee=False)\n",
    "    end= time.time() #set the final time of the timer\n",
    "    \n",
    "    solving_time=end-start #the total time the pyomo model takes to solve the problem (once the model has been defined)\n",
    "    \n",
    "    return solving_time"
   ]
  },
  {
   "cell_type": "markdown",
   "id": "a60d83ed",
   "metadata": {},
   "source": [
    "Once the function has been defined, given some chosen number of planets, the values of the solving time were obtained and stored."
   ]
  },
  {
   "cell_type": "code",
   "execution_count": 38,
   "id": "60f62ae2",
   "metadata": {},
   "outputs": [
    {
     "name": "stdout",
     "output_type": "stream",
     "text": [
      "Solving time per number of planets in the problem (s)\n",
      " \n",
      "2  planets:  0.06383347511291504 s\n",
      " \n",
      "3  planets:  0.05841469764709473 s\n",
      " \n",
      "6  planets:  0.06438684463500977 s\n",
      " \n",
      "9  planets:  0.09311485290527344 s\n",
      " \n",
      "12  planets:  0.14333081245422363 s\n",
      " \n",
      "15  planets:  5.54386830329895 s\n",
      " \n",
      "16  planets:  0.8726437091827393 s\n",
      " \n",
      "17  planets:  16.91805624961853 s\n",
      " \n",
      "18  planets:  0.13462066650390625 s\n",
      " \n",
      "19  planets:  20.039912700653076 s\n",
      " \n",
      "20  planets:  2.3474366664886475 s\n",
      " \n",
      "24  planets:  175.3236083984375 s\n"
     ]
    }
   ],
   "source": [
    "n_planets=np.array([2, 3, 6, 9, 12, 15, 16, 17, 18, 19, 20, 24]).astype(int)\n",
    "\n",
    "times=np.zeros(len(n_planets))\n",
    "num=np.zeros(len(n_planets))\n",
    "for i,n in enumerate(n_planets):\n",
    "    times[i]=modelo(n)\n",
    "    num[i]=n\n",
    "\n",
    "print('Solving time per number of planets in the problem (s)')\n",
    "for i in range(len(num)):\n",
    "    print(' ')\n",
    "    print(num[i].astype(int), ' planets: ', times[i], 's')\n",
    "\n"
   ]
  },
  {
   "cell_type": "markdown",
   "id": "278d26ac",
   "metadata": {},
   "source": [
    "The following code shows the evolution of the solving time of the problem with respect to the number of planets involved in the economy. A plot of the logarithm of the solving time has been also provided, in order to more clearly see the evolution of said times."
   ]
  },
  {
   "cell_type": "code",
   "execution_count": 39,
   "id": "98b3a97d",
   "metadata": {},
   "outputs": [
    {
     "data": {
      "image/png": "[encoded data removed]",
      "text/plain": [
       "<Figure size 800x600 with 1 Axes>"
      ]
     },
     "metadata": {},
     "output_type": "display_data"
    }
   ],
   "source": [
    "import matplotlib.pyplot as plt #import the plotting package\n",
    "\n",
    "plt.figure(figsize=(8, 6))  # Set the figure size\n",
    "plt.plot(num, times, color='red') # Plot x vs y (line)\n",
    "plt.scatter(num, times, color='red')  # Plot x vs y (points)\n",
    "plt.title('Solving time for number of planets')  # Title of the plot\n",
    "plt.xlabel('Number of planets')  # x-axis label\n",
    "plt.ylabel('Solving time (s)')  # y-axis label\n",
    "plt.axhline(0, color='black',linewidth=0.5, ls='--')  # x-axis\n",
    "plt.axvline(0, color='black',linewidth=0.5, ls='--')  # y-axis\n",
    "plt.grid(color = 'gray', linestyle = '--', linewidth = 0.5)  # Add grid\n",
    "plt.show()"
   ]
  },
  {
   "cell_type": "code",
   "execution_count": 41,
   "id": "551cf489",
   "metadata": {},
   "outputs": [
    {
     "data": {
      "image/png": "[encoded data removed]",
      "text/plain": [
       "<Figure size 800x600 with 1 Axes>"
      ]
     },
     "metadata": {},
     "output_type": "display_data"
    }
   ],
   "source": [
    "plt.figure(figsize=(8, 6))  # Set the figure size\n",
    "plt.plot(num, np.log(times), color='red') # Plot x vs y (line)\n",
    "plt.scatter(num, np.log(times), color='red')  # Plot x vs y (points)\n",
    "plt.title('Log of Solving time for number of planets')  # Title of the plot\n",
    "plt.xlabel('Number of planets')  # x-axis label\n",
    "plt.ylabel('log(Solving time)')  # y-axis label\n",
    "plt.axhline(0, color='black',linewidth=0.5, ls='--')  # x-axis\n",
    "plt.axvline(0, color='black',linewidth=0.5, ls='--')  # y-axis\n",
    "plt.grid(color = 'gray', linestyle = '--', linewidth = 0.5)  # Add grid\n",
    "plt.show()"
   ]
  },
  {
   "cell_type": "markdown",
   "id": "1c446733",
   "metadata": {},
   "source": [
    "The behavior of the solving time with the respect to the number of planets *n*, that is, with respect to the size of the problem (as the number of variables is $m\\cdot n^2+n^2$, where $m\\cdot n^2$ is the number of continuous variables and $n^2$ is the number of binary variables) doesn't have a straight forward behavior. It would be expected that the solving time would steadily increase as the size of the problem increases, for more calculations are to be taken into account. The general tendency seems to point in that direction, with a steady increase until around $n=\\,15$, but then an inestability region is found (more values have been plotted in that region to show that fact), where the solving time oscillates between high times (in the order of 10 s) and low times (in the order of 1 s, as the times for small sizes of the problem). For values greater than 20, a significant increse in the solving time is found, but again finding an unstable behavior, with some values of *n* returning a value and other not finishing for very long periods of time (no solution found for hours even, kernels were restarted and those values were rejected for study due to time constraints). This strange behavior may be due to strange combinatory issues, or the process of randomly generating the data.\n",
    "\n",
    "\n"
   ]
  },
  {
   "cell_type": "markdown",
   "id": "b3c3d657",
   "metadata": {},
   "source": [
    "## h) For the integer problem in e), solve several instances with the same data, using (10 to 20) different values for one of the parameters in the model (choose a parameter you think may provide insights for the interpretation of the different solution values). Collect the resulting optimal values of the objective function, print and plot them. Comment on these values."
   ]
  },
  {
   "cell_type": "markdown",
   "id": "5e68f816",
   "metadata": {},
   "source": [
    "To end the problem, a study of the values of the objective function based on the surplus of resources available was performed. To this end the parameter $\\epsilon$ of the model was modified from 1 to 5, in steps of 0.2, so that the total stock of each resource goes from the the total demand of each resource to five times that total demand. \n",
    "\n",
    "A function was defined to create a model like the one in e) depending on the value of $\\epsilon$, that returns the value for the objective function at the optimal."
   ]
  },
  {
   "cell_type": "code",
   "execution_count": 29,
   "id": "14c64dcd",
   "metadata": {},
   "outputs": [],
   "source": [
    "n=6 #go back to the case with 6 planets\n",
    "\n",
    "#Define a function that, given a value for epsilon *e*, returns the value of the objective function at the optimal point.\n",
    "def model_par(e):\n",
    "    \n",
    "    #GENERATE DATA\n",
    "    \n",
    "    np.random.seed(241024) #set the seed to ensure reproducibility\n",
    "    \n",
    "    #Distance matrix\n",
    "    upper_tri = np.random.uniform(0, 1, size=(n, n)) #randomly generate an upper triangular matrix with values uniformly distributed\n",
    "                                                 #between 0 and 1\n",
    "\n",
    "    dist= np.triu(upper_tri) + np.triu(upper_tri, 1).T #create a symmetric matrix by adding the upper triangular matrix and its\n",
    "                                                       #transpose\n",
    "\n",
    "    np.fill_diagonal(dist,0) #fill the diagonal with zeros (the distance from a planet to itself is zero)\n",
    "\n",
    "\n",
    "    #Cost matrix\n",
    "\n",
    "    cost=c*dist\n",
    "\n",
    "    #Demand matrix\n",
    "\n",
    "    d_1=np.random.uniform(0, 500, size=n) #generate average demands of resource 1 (minerals) for each planet\n",
    "\n",
    "    D1=sum(d_1) #total demand of resource 1 (minerals)\n",
    "\n",
    "    d_2=np.random.uniform(0, 1200, size=n) #generate average demand of resource 2 (crops) for each planet\n",
    "\n",
    "    D2=sum(d_2) #total demand of resource 2 (crops)\n",
    "\n",
    "    d_3=np.random.uniform(0, 350, size=n) #generate average demand for resource 3 (fuel)\n",
    "\n",
    "    D3=sum(d_3) #total demand of resource 3(fuel)\n",
    "\n",
    "    dem=np.column_stack((d_1, d_2, d_3))\n",
    "\n",
    "    #Stock matrix\n",
    "\n",
    "    epsilon=e #defines surplus of resources\n",
    "\n",
    "    S1=epsilon*D1 #defines the total amount of resource 1 available\n",
    "\n",
    "    s_1=np.random.dirichlet(np.ones(n))*S1 #generate random set of proportions so that the total stock is shared among all the \n",
    "                                           #planets\n",
    "\n",
    "    S2=epsilon*D2 #defines the total amount of resource 2 available\n",
    "\n",
    "    s_2=np.random.dirichlet(np.ones(n))*S2 #generate random set of proportions so that the total stock is shared among all the \n",
    "                                           #planets\n",
    "\n",
    "    S3=epsilon*D3 #defines the total amount of resource 2 available\n",
    "\n",
    "    s_3=np.random.dirichlet(np.ones(n))*S3 #generate random set of proportions so that the total stock is shared among all the \n",
    "                                           #planets\n",
    "\n",
    "\n",
    "    stock=np.column_stack((s_1, s_2, s_3))\n",
    "    \n",
    "    #IMPLEMENT THE MODEL\n",
    "\n",
    "    #Import the pyomo package and the solver\n",
    "\n",
    "    opt = pyo.SolverFactory('glpk')\n",
    "\n",
    "    #Create the model\n",
    "    model = pyo.ConcreteModel(name=\"ECON\")\n",
    "\n",
    "    #Sets\n",
    "    model.I = pyo.RangeSet(1,n)\n",
    "    model.J = pyo.RangeSet(1,n)\n",
    "    model.K =pyo.RangeSet(1,m)\n",
    "\n",
    "    M=2000\n",
    "\n",
    "    #Variables\n",
    "    model.x = pyo.Var(model.I, model.J, model.K, domain=pyo.NonNegativeReals, initialize=0)\n",
    "\n",
    "    model.y =pyo.Var(model.I, model.J, domain=pyo.Binary)\n",
    "\n",
    "    #Objective function\n",
    "    def Obj_rule(model):\n",
    "        return sum(cost[i-1,j-1]*model.x[i,j,k] for i in model.I for j in model.J for k in model.K)\n",
    "    model.Obj = pyo.Objective(rule=Obj_rule, sense=pyo.minimize)\n",
    "    \n",
    "    #Constraints\n",
    "    def material_constraint_rule(model, i, k): \n",
    "        return sum(model.x[j,i,k]-model.x[i,j,k] for j in model.J if (i!=j)) >= dem[i-1,k-1]-stock[i-1,k-1]\n",
    "    model.material_Constraint = pyo.Constraint(model.I, model.K, rule=material_constraint_rule)\n",
    "\n",
    "    def econ_constraint_rule(model, i):\n",
    "        return sum(p[k-1]*model.x[j,i,k]-1.5*p[k-1]*model.x[i,j,k] for j in model.J if (i!=j) for k in model.K)<=0\n",
    "    model.econ_Constraint = pyo.Constraint(model.I, rule=econ_constraint_rule)\n",
    "    \n",
    "    def no_inner_constraint_rule(model,i,k):\n",
    "        return model.x[i,i,k] == 0\n",
    "    model.no_inner_Constraint = pyo.Constraint(model.I, model.K, rule=no_inner_constraint_rule)\n",
    "    \n",
    "    def exchange_existence_constraint_rule(model, i, j, k):\n",
    "        return model.x[i,j,k] <=M*model.y[i,j]\n",
    "    model.exchange_existence_Constraint = pyo.Constraint(model.I, model.J, model.K, rule=exchange_existence_constraint_rule)\n",
    "    \n",
    "    def limit_exchanges_constraint_rule(model, i):\n",
    "        return sum(model.y[i,j] for j in model.J)<=2\n",
    "    model.limit_exchanges_Constraint=pyo.Constraint(model.I, rule=limit_exchanges_constraint_rule)\n",
    "    \n",
    "    def equality_constraint_rule(model, i, j):\n",
    "        return model.y[i,j]==model.y[j,i]\n",
    "    model.equality_Constraint = pyo.Constraint(model.I, model.J, rule=equality_constraint_rule)\n",
    "    \n",
    "    \n",
    "    #Get the solution\n",
    "    \n",
    "    results = opt.solve(model,tee=False)\n",
    "    \n",
    "    objective_value=model.Obj() #get the value of the objective function at the optimal\n",
    "    \n",
    "    return objective_value"
   ]
  },
  {
   "cell_type": "markdown",
   "id": "add381f7",
   "metadata": {},
   "source": [
    "Defining a vector with the different values for the amount of surplus of resources, the function is run for each one to obtain its optimal value, and then is stored in a vector."
   ]
  },
  {
   "cell_type": "code",
   "execution_count": 32,
   "id": "acfd4733",
   "metadata": {},
   "outputs": [
    {
     "name": "stdout",
     "output_type": "stream",
     "text": [
      "epsilon=  1.0 ; Objective function value=  64588.96656257513\n",
      "epsilon=  1.2 ; Objective function value=  51575.05006579016\n",
      "epsilon=  1.4 ; Objective function value=  41893.078395958015\n",
      "epsilon=  1.6 ; Objective function value=  37315.80239278791\n",
      "epsilon=  1.8 ; Objective function value=  33474.938782757985\n",
      "epsilon=  2.0 ; Objective function value=  29964.08699767603\n",
      "epsilon=  2.2 ; Objective function value=  28359.246542063916\n",
      "epsilon=  2.4 ; Objective function value=  28080.93316168014\n",
      "epsilon=  2.6 ; Objective function value=  27825.530375685135\n",
      "epsilon=  2.8 ; Objective function value=  27600.05802698546\n",
      "epsilon=  3.0 ; Objective function value=  27374.585678285817\n",
      "epsilon=  3.2 ; Objective function value=  27149.113329586176\n",
      "epsilon=  3.4 ; Objective function value=  26923.640980886536\n",
      "epsilon=  3.6 ; Objective function value=  26698.168632186855\n",
      "epsilon=  3.8 ; Objective function value=  26472.69628348722\n",
      "epsilon=  4.0 ; Objective function value=  26247.223934787573\n",
      "epsilon=  4.2 ; Objective function value=  26021.751586087907\n",
      "epsilon=  4.4 ; Objective function value=  25796.27923738826\n",
      "epsilon=  4.6 ; Objective function value=  25570.806888688614\n",
      "epsilon=  4.8 ; Objective function value=  25345.334539988973\n",
      "epsilon=  5.0 ; Objective function value=  25123.0785073618\n"
     ]
    }
   ],
   "source": [
    "eps=np.arange(1,5.1,0.2)\n",
    "\n",
    "opt_values=np.zeros(len(eps))\n",
    "\n",
    "for i in range(len(eps)):\n",
    "    opt_values[i]=model_par(eps[i])\n",
    "    \n",
    "    print('epsilon= ', f\"{eps[i]:.1f}\", '; Objective function value= ', opt_values[i])\n",
    "\n",
    "   \n",
    "    "
   ]
  },
  {
   "cell_type": "markdown",
   "id": "7c37dc13",
   "metadata": {},
   "source": [
    "The plot below shows the evolution of the value of the total transportation cost with respect to $\\epsilon$, that is with respect to the ratio $\\epsilon=\\,\\frac{\\text{Total stock}}{\\text{Total demand}}$."
   ]
  },
  {
   "cell_type": "code",
   "execution_count": 35,
   "id": "4be8337c",
   "metadata": {},
   "outputs": [
    {
     "data": {
      "image/png": "[encoded data removed]",
      "text/plain": [
       "<Figure size 800x600 with 1 Axes>"
      ]
     },
     "metadata": {},
     "output_type": "display_data"
    }
   ],
   "source": [
    "import matplotlib.pyplot as plt\n",
    "\n",
    "plt.figure(figsize=(8, 6))  # Set the figure size\n",
    "plt.plot(eps, opt_values, color='blue')\n",
    "plt.scatter(eps, opt_values, color='blue')  # Plot x vs y\n",
    "plt.title('Total transportation on cost for a given quantity of resources')  # Title of the plot\n",
    "plt.xlabel('$\\epsilon$')  # x-axis label\n",
    "plt.xlim(left=0.8) #set the initial x-value at 0.8\n",
    "plt.ylabel('Total transportation cost (Cs)')  # y-axis label\n",
    "plt.axhline(0, color='black',linewidth=0.5, ls='--')  # x-axis\n",
    "plt.axvline(0, color='black',linewidth=0.5, ls='--')  # y-axis\n",
    "plt.grid(color = 'gray', linestyle = '--', linewidth = 0.5)  # Add grid\n",
    "plt.show()"
   ]
  },
  {
   "cell_type": "markdown",
   "id": "3759cc38",
   "metadata": {},
   "source": [
    "It can be seen that the total transportation cost decreases as $\\epsilon$ increases. This makes sense, as $\\epsilon$ marks the ratio between the total stock and total demand of resources. In this regard, the plot represents the total transportation cost for situations ranging from when the total stock is equal to the total demand (no surplus, the minimum so that the problem is solvable) to when the total stock is 5 times the total demand. It would be expected that, if that the total amount of resources is five times the total demanded quality (a huge surplus), that all planets will have met their demands and that the transportation cost would then be zero. However, as can be seen, even though the total transportation cost decreases as $\\epsilon$ increases, it decreases ever slower, so there may be some random elements that establish that it is very difficult that all demands are met. \n",
    "\n",
    "In order to see when that total transportation cost reaches zero, that is, when each planet has enough resources and no commerce is needed, high values of $\\epsilon$ were explored."
   ]
  },
  {
   "cell_type": "code",
   "execution_count": 41,
   "id": "ea8c904d",
   "metadata": {},
   "outputs": [
    {
     "name": "stdout",
     "output_type": "stream",
     "text": [
      "epsilon=  100.0 ; Objective function value=  13912.924563257813\n",
      "epsilon=  200.0 ; Objective function value=  10518.266001960059\n",
      "epsilon=  300.0 ; Objective function value=  7123.607440662308\n",
      "epsilon=  400.0 ; Objective function value=  3728.948879364557\n",
      "epsilon=  500.0 ; Objective function value=  334.2903180668028\n",
      "epsilon=  600.0 ; Objective function value=  0.0\n",
      "epsilon=  700.0 ; Objective function value=  0.0\n",
      "epsilon=  800.0 ; Objective function value=  0.0\n",
      "epsilon=  900.0 ; Objective function value=  0.0\n"
     ]
    }
   ],
   "source": [
    "eps=np.arange(100,1000,100)\n",
    "\n",
    "opt_values=np.zeros(len(eps))\n",
    "\n",
    "for i in range(len(eps)):\n",
    "    opt_values[i]=model_par(eps[i])\n",
    "    \n",
    "    print('epsilon= ', f\"{eps[i]:.1f}\", '; Objective function value= ', opt_values[i])"
   ]
  },
  {
   "cell_type": "markdown",
   "id": "90d8d705",
   "metadata": {},
   "source": [
    "Numerically for this problem, in order to salvage the random nature of the generation of the demands and stocks so that no exchanges are needed, the total stock must be more than *500* times greater than the total demand, which doesn't sound realistic at all. In a real-world non-random situation, it is expected that this number should be must smaller.\n",
    "\n",
    "The issue with this problem may be found with the \"economic balance constraints\", which make that, once a planet is in need of a resource, it must also sell some resoruces so as not to be bankrupted. Then, as the random generation of stocks and demands seems to make it so that it is highly unlikely that all stocks for each planets and resource are higher than their respective demands (counterintuitively for the very high surplus of resoruces, that are nonetheless randomly distributed among the planets), resources need to reach other destinations, and then extra exchanges are needed to ensure the so-called economic balance."
   ]
  }
 ],
 "metadata": {
  "kernelspec": {
   "display_name": "Python 3 (ipykernel)",
   "language": "python",
   "name": "python3"
  },
  "language_info": {
   "codemirror_mode": {
    "name": "ipython",
    "version": 3
   },
   "file_extension": ".py",
   "mimetype": "text/x-python",
   "name": "python",
   "nbconvert_exporter": "python",
   "pygments_lexer": "ipython3",
   "version": "3.10.9"
  }
 },
 "nbformat": 4,
 "nbformat_minor": 5
}
